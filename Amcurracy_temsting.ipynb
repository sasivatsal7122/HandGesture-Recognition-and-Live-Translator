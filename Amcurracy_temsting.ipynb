{
 "cells": [
  {
   "cell_type": "code",
   "execution_count": 2,
   "id": "0a536100",
   "metadata": {},
   "outputs": [],
   "source": [
    "import pandas as pd\n",
    "from sklearn.model_selection import train_test_split\n",
    "from sklearn.preprocessing import StandardScaler\n",
    "\n",
    "\n",
    "from sklearn.neighbors import KNeighborsClassifier\n",
    "from sklearn.linear_model import LogisticRegression\n",
    "from sklearn.naive_bayes import GaussianNB\n",
    "from sklearn.svm import SVC\n",
    "from sklearn.tree import DecisionTreeClassifier\n",
    "from sklearn.ensemble import RandomForestClassifier\n",
    "from sklearn.metrics import classification_report, accuracy_score\n",
    "from sklearn.metrics import f1_score\n",
    "\n",
    "import joblib"
   ]
  },
  {
   "cell_type": "code",
   "execution_count": 3,
   "id": "9adcd915",
   "metadata": {},
   "outputs": [],
   "source": [
    "dataset = pd.read_csv('mcoords_damta.csv')\n",
    "\n",
    "#dataset.head()"
   ]
  },
  {
   "cell_type": "markdown",
   "id": "ea1c4e19",
   "metadata": {},
   "source": [
    "# Splitting Train and Test"
   ]
  },
  {
   "cell_type": "code",
   "execution_count": 5,
   "id": "e63980af",
   "metadata": {},
   "outputs": [],
   "source": [
    "X = dataset.iloc[:, 1:].values\n",
    "Y = dataset.iloc[:, 0].values"
   ]
  },
  {
   "cell_type": "code",
   "execution_count": 8,
   "id": "aee0be63",
   "metadata": {},
   "outputs": [],
   "source": [
    "X_train, X_test, y_train, y_test = train_test_split(X, Y, test_size=0.33)"
   ]
  },
  {
   "cell_type": "code",
   "execution_count": 9,
   "id": "65abafe2",
   "metadata": {},
   "outputs": [
    {
     "data": {
      "text/plain": [
       "(array([[0.53298569, 0.97056466, 0.44585094, ..., 0.65895563, 0.47625431,\n",
       "         0.64618796],\n",
       "        [0.17588018, 0.66803652, 0.18196076, ..., 0.71304005, 0.53357399,\n",
       "         0.76438797],\n",
       "        [0.5143553 , 0.8316958 , 0.3873868 , ..., 0.37709838, 0.67780656,\n",
       "         0.33010072],\n",
       "        ...,\n",
       "        [0.43364981, 0.59830093, 0.29287198, ..., 0.81762534, 0.38286048,\n",
       "         0.87926078],\n",
       "        [0.30209509, 0.90348935, 0.21469623, ..., 0.55794823, 0.19139737,\n",
       "         0.57637203],\n",
       "        [0.33902836, 0.38122535, 0.38866568, ..., 0.30882075, 0.57372296,\n",
       "         0.33335236]]),\n",
       " array([[0.73519158, 0.77187133, 0.65495861, ..., 0.40015435, 0.8737371 ,\n",
       "         0.37768549],\n",
       "        [0.28868023, 0.74296284, 0.30255535, ..., 0.82134694, 0.62409627,\n",
       "         0.85880375],\n",
       "        [0.4029195 , 0.92983544, 0.32097748, ..., 0.58305848, 0.529921  ,\n",
       "         0.53123093],\n",
       "        ...,\n",
       "        [0.36992538, 0.78542095, 0.30022016, ..., 0.46378404, 0.72673428,\n",
       "         0.42095381],\n",
       "        [0.363493  , 0.99355841, 0.23985797, ..., 0.77854496, 0.4547258 ,\n",
       "         0.84370738],\n",
       "        [0.56314063, 0.77112412, 0.4600969 , ..., 0.36565593, 0.44294727,\n",
       "         0.40107763]]),\n",
       " array(['D', 'P', 'F', ..., 'M', 'D', 'Q'], dtype=object),\n",
       " array(['M', 'P', 'I', ..., 'J', 'L', 'D'], dtype=object))"
      ]
     },
     "execution_count": 9,
     "metadata": {},
     "output_type": "execute_result"
    }
   ],
   "source": [
    "X_train, X_test, y_train, y_test"
   ]
  },
  {
   "cell_type": "markdown",
   "id": "383ed690",
   "metadata": {},
   "source": [
    "## Normalizing to reduce computational power"
   ]
  },
  {
   "cell_type": "code",
   "execution_count": 11,
   "id": "68241452",
   "metadata": {},
   "outputs": [],
   "source": [
    "scaler = StandardScaler().fit(X_train)\n",
    "\n",
    "X_train = scaler.transform(X_train)\n",
    "X_test = scaler.transform(X_test)"
   ]
  },
  {
   "cell_type": "code",
   "execution_count": 12,
   "id": "3307d98a",
   "metadata": {},
   "outputs": [
    {
     "data": {
      "text/plain": [
       "(array([[ 0.36163004,  1.40860444,  0.34581944, ...,  0.79952873,\n",
       "         -0.36412498,  0.54985578],\n",
       "        [-1.61354215, -0.27004561, -1.28840865, ...,  1.10016883,\n",
       "         -0.06638977,  1.14757741],\n",
       "        [ 0.25858425,  0.63805717, -0.01623928, ..., -0.76723659,\n",
       "          0.68279656, -1.0485552 ],\n",
       "        ...,\n",
       "        [-0.18780272, -0.65699026, -0.60155386, ...,  1.68152909,\n",
       "         -0.84923997,  1.72847388],\n",
       "        [-0.91543986,  1.03642096, -1.08568333, ...,  0.23805694,\n",
       "         -1.8437556 ,  0.19680593],\n",
       "        [-0.71115969, -1.86148628, -0.0083194 , ..., -1.14677275,\n",
       "          0.14215579, -1.03211208]]),\n",
       " array([[ 1.4800431 ,  0.30610675,  1.64078854, ..., -0.63907492,\n",
       "          1.70051732, -0.80792536],\n",
       "        [-0.98963826,  0.14570105, -0.54158635, ...,  1.70221639,\n",
       "          0.40380958,  1.62502542],\n",
       "        [-0.35777391,  1.18260855, -0.42750118, ...,  0.37763774,\n",
       "         -0.08536447, -0.03146659],\n",
       "        ...,\n",
       "        [-0.54026639,  0.38129011, -0.5560478 , ..., -0.28537536,\n",
       "          0.93694153, -0.58912323],\n",
       "        [-0.5758443 ,  1.53619074, -0.92986083, ...,  1.46429223,\n",
       "         -0.47595039,  1.54868511],\n",
       "        [ 0.52841886,  0.30196071,  0.43404229, ..., -0.83084197,\n",
       "         -0.53713155, -0.68963443]]))"
      ]
     },
     "execution_count": 12,
     "metadata": {},
     "output_type": "execute_result"
    }
   ],
   "source": [
    "X_train,X_test"
   ]
  },
  {
   "cell_type": "markdown",
   "id": "e88a6bdc",
   "metadata": {},
   "source": [
    "# Making and Testing Accuracy of Different Models"
   ]
  },
  {
   "cell_type": "markdown",
   "id": "f0fd9394",
   "metadata": {},
   "source": [
    "# 1.1 K-Nearest Neighbours Model"
   ]
  },
  {
   "cell_type": "code",
   "execution_count": 15,
   "id": "cd864bf8",
   "metadata": {},
   "outputs": [],
   "source": [
    "classifier = KNeighborsClassifier(n_neighbors=3)\n",
    "\n",
    "classifier.fit(X_train, y_train)\n",
    "\n",
    "y_pred = classifier.predict(X_test)"
   ]
  },
  {
   "cell_type": "code",
   "execution_count": 16,
   "id": "fc1a78b9",
   "metadata": {},
   "outputs": [
    {
     "data": {
      "text/plain": [
       "array(['M', 'P', 'I', ..., 'J', 'L', 'D'], dtype=object)"
      ]
     },
     "execution_count": 16,
     "metadata": {},
     "output_type": "execute_result"
    }
   ],
   "source": [
    "y_pred"
   ]
  },
  {
   "cell_type": "code",
   "execution_count": 39,
   "id": "bb7a7f13",
   "metadata": {},
   "outputs": [
    {
     "name": "stdout",
     "output_type": "stream",
     "text": [
      "              precision    recall  f1-score   support\n",
      "\n",
      "           A       0.96      0.98      0.97       307\n",
      "           B       0.98      1.00      0.99       334\n",
      "           C       0.98      1.00      0.99       295\n",
      "           D       1.00      0.98      0.99       325\n",
      "           E       0.99      0.97      0.98       303\n",
      "           F       1.00      1.00      1.00       326\n",
      "           G       0.99      1.00      1.00       325\n",
      "           H       1.00      0.99      1.00       345\n",
      "           I       1.00      0.99      1.00       345\n",
      "           J       1.00      0.99      0.99       331\n",
      "           K       0.98      0.98      0.98       334\n",
      "           L       1.00      1.00      1.00       332\n",
      "           M       0.93      0.90      0.91       341\n",
      "           N       0.91      0.92      0.91       312\n",
      "           O       0.99      1.00      0.99       318\n",
      "           P       0.99      0.99      0.99       349\n",
      "           Q       0.99      0.99      0.99       323\n",
      "           R       0.98      0.96      0.97       330\n",
      "           S       0.97      0.97      0.97       340\n",
      "           T       0.99      0.98      0.99       351\n",
      "           U       0.90      0.95      0.92       333\n",
      "           V       0.95      0.92      0.93       322\n",
      "           W       1.00      0.99      1.00       341\n",
      "           X       0.97      0.98      0.98       324\n",
      "           Y       0.99      1.00      0.99       352\n",
      "           Z       1.00      1.00      1.00       342\n",
      "\n",
      "    accuracy                           0.98      8580\n",
      "   macro avg       0.98      0.98      0.98      8580\n",
      "weighted avg       0.98      0.98      0.98      8580\n",
      "\n",
      "Accuracy : 0.9780885780885781\n",
      "f-1 score : 0.9779134577508793\n"
     ]
    }
   ],
   "source": [
    "print(classification_report(y_test, y_pred))\n",
    "print(\"Accuracy :\",accuracy_score(y_test, y_pred))\n",
    "print(\"f-1 score :\",f1_score(y_test, y_pred, average='macro'))"
   ]
  },
  {
   "cell_type": "markdown",
   "id": "1f4d75f8",
   "metadata": {},
   "source": [
    "# 1.2 Logistic Regression Model\n"
   ]
  },
  {
   "cell_type": "code",
   "execution_count": 18,
   "id": "c51bc4e8",
   "metadata": {},
   "outputs": [],
   "source": [
    "classifier_2 = LogisticRegression(solver='liblinear', C=10.0, random_state=0)\n",
    "classifier_2.fit(X_train, y_train)\n",
    "\n",
    "y_pred_2 = classifier_2.predict(X_test)"
   ]
  },
  {
   "cell_type": "code",
   "execution_count": 19,
   "id": "cb1c7af2",
   "metadata": {},
   "outputs": [
    {
     "data": {
      "text/plain": [
       "array(['J', 'P', 'I', ..., 'J', 'L', 'D'], dtype=object)"
      ]
     },
     "execution_count": 19,
     "metadata": {},
     "output_type": "execute_result"
    }
   ],
   "source": [
    "y_pred_2"
   ]
  },
  {
   "cell_type": "code",
   "execution_count": 40,
   "id": "7b9c71f9",
   "metadata": {},
   "outputs": [
    {
     "name": "stdout",
     "output_type": "stream",
     "text": [
      "              precision    recall  f1-score   support\n",
      "\n",
      "           A       0.97      1.00      0.99       307\n",
      "           B       0.99      1.00      0.99       334\n",
      "           C       1.00      1.00      1.00       295\n",
      "           D       0.99      0.99      0.99       325\n",
      "           E       1.00      0.99      1.00       303\n",
      "           F       1.00      0.99      1.00       326\n",
      "           G       0.99      1.00      1.00       325\n",
      "           H       1.00      0.99      1.00       345\n",
      "           I       0.99      0.98      0.98       345\n",
      "           J       0.99      0.98      0.99       331\n",
      "           K       1.00      1.00      1.00       334\n",
      "           L       1.00      1.00      1.00       332\n",
      "           M       0.93      0.94      0.93       341\n",
      "           N       0.95      0.91      0.93       312\n",
      "           O       0.98      1.00      0.99       318\n",
      "           P       1.00      1.00      1.00       349\n",
      "           Q       1.00      0.99      1.00       323\n",
      "           R       0.97      0.96      0.97       330\n",
      "           S       0.99      0.98      0.99       340\n",
      "           T       1.00      0.98      0.99       351\n",
      "           U       0.98      0.97      0.98       333\n",
      "           V       0.99      1.00      1.00       322\n",
      "           W       1.00      0.99      0.99       341\n",
      "           X       0.95      1.00      0.97       324\n",
      "           Y       1.00      1.00      1.00       352\n",
      "           Z       1.00      0.99      1.00       342\n",
      "\n",
      "    accuracy                           0.99      8580\n",
      "   macro avg       0.99      0.99      0.99      8580\n",
      "weighted avg       0.99      0.99      0.99      8580\n",
      "\n",
      "Accuracy : 0.986013986013986\n",
      "f-1 score : 0.9859531403838683\n"
     ]
    }
   ],
   "source": [
    "print(classification_report(y_test, y_pred_2))\n",
    "print(\"Accuracy :\",accuracy_score(y_test, y_pred_2))\n",
    "print(\"f-1 score :\",f1_score(y_test, y_pred_2, average='macro'))"
   ]
  },
  {
   "cell_type": "markdown",
   "id": "e37de803",
   "metadata": {},
   "source": [
    "# 1.3 Gaussian Naive Bayes Model"
   ]
  },
  {
   "cell_type": "code",
   "execution_count": 21,
   "id": "5974bf71",
   "metadata": {},
   "outputs": [],
   "source": [
    "classifier_3 = GaussianNB(priors = None, var_smoothing = 1e-09)\n",
    "classifier_3.fit(X_train, y_train)\n",
    "\n",
    "y_pred_3 = classifier_3.predict(X_test)"
   ]
  },
  {
   "cell_type": "code",
   "execution_count": 22,
   "id": "205ae676",
   "metadata": {},
   "outputs": [
    {
     "data": {
      "text/plain": [
       "array(['K', 'P', 'T', ..., 'J', 'T', 'D'], dtype='<U1')"
      ]
     },
     "execution_count": 22,
     "metadata": {},
     "output_type": "execute_result"
    }
   ],
   "source": [
    "y_pred_3"
   ]
  },
  {
   "cell_type": "code",
   "execution_count": 41,
   "id": "0e9348dd",
   "metadata": {},
   "outputs": [
    {
     "name": "stdout",
     "output_type": "stream",
     "text": [
      "              precision    recall  f1-score   support\n",
      "\n",
      "           A       0.35      0.55      0.43       307\n",
      "           B       0.64      0.59      0.62       334\n",
      "           C       0.22      0.68      0.33       295\n",
      "           D       0.61      0.46      0.53       325\n",
      "           E       0.28      0.37      0.32       303\n",
      "           F       0.98      0.63      0.77       326\n",
      "           G       0.94      0.38      0.55       325\n",
      "           H       0.70      0.75      0.72       345\n",
      "           I       0.52      0.43      0.47       345\n",
      "           J       0.80      0.64      0.71       331\n",
      "           K       0.28      0.69      0.40       334\n",
      "           L       0.51      0.45      0.48       332\n",
      "           M       0.79      0.24      0.37       341\n",
      "           N       0.23      0.61      0.34       312\n",
      "           O       0.45      0.16      0.23       318\n",
      "           P       0.52      0.64      0.57       349\n",
      "           Q       0.83      0.41      0.55       323\n",
      "           R       0.23      0.09      0.13       330\n",
      "           S       0.12      0.05      0.07       340\n",
      "           T       0.18      0.43      0.25       351\n",
      "           U       0.21      0.07      0.10       333\n",
      "           V       0.09      0.12      0.11       322\n",
      "           W       0.88      0.27      0.41       341\n",
      "           X       0.07      0.03      0.04       324\n",
      "           Y       0.51      0.20      0.29       352\n",
      "           Z       0.81      0.43      0.56       342\n",
      "\n",
      "    accuracy                           0.40      8580\n",
      "   macro avg       0.49      0.40      0.40      8580\n",
      "weighted avg       0.49      0.40      0.40      8580\n",
      "\n",
      "Accuracy : 0.3977855477855478\n",
      "f-1 score : 0.39739129607172136\n"
     ]
    }
   ],
   "source": [
    "print(classification_report(y_test, y_pred_3))\n",
    "print(\"Accuracy :\",accuracy_score(y_test, y_pred_3))\n",
    "print(\"f-1 score :\",f1_score(y_test, y_pred_3, average='macro'))"
   ]
  },
  {
   "cell_type": "markdown",
   "id": "735305cf",
   "metadata": {},
   "source": [
    "# 1.4 Support Vector Machines Model"
   ]
  },
  {
   "cell_type": "code",
   "execution_count": 26,
   "id": "a7ae9231",
   "metadata": {},
   "outputs": [],
   "source": [
    "classifier_4 = SVC(kernel='rbf', random_state = 1)\n",
    "classifier_4.fit(X_train,y_train)\n",
    "\n",
    "y_pred_4 = classifier_4.predict(X_test)"
   ]
  },
  {
   "cell_type": "code",
   "execution_count": 27,
   "id": "3fd29873",
   "metadata": {},
   "outputs": [
    {
     "data": {
      "text/plain": [
       "array(['B', 'P', 'I', ..., 'J', 'L', 'D'], dtype=object)"
      ]
     },
     "execution_count": 27,
     "metadata": {},
     "output_type": "execute_result"
    }
   ],
   "source": [
    "y_pred_4"
   ]
  },
  {
   "cell_type": "code",
   "execution_count": 42,
   "id": "4714acf0",
   "metadata": {},
   "outputs": [
    {
     "name": "stdout",
     "output_type": "stream",
     "text": [
      "              precision    recall  f1-score   support\n",
      "\n",
      "           A       0.98      1.00      0.99       307\n",
      "           B       0.96      1.00      0.98       334\n",
      "           C       0.99      1.00      1.00       295\n",
      "           D       0.99      0.95      0.97       325\n",
      "           E       1.00      0.99      0.99       303\n",
      "           F       1.00      1.00      1.00       326\n",
      "           G       1.00      1.00      1.00       325\n",
      "           H       1.00      1.00      1.00       345\n",
      "           I       0.99      0.99      0.99       345\n",
      "           J       1.00      0.98      0.99       331\n",
      "           K       0.99      0.97      0.98       334\n",
      "           L       1.00      1.00      1.00       332\n",
      "           M       0.93      0.89      0.91       341\n",
      "           N       0.90      0.90      0.90       312\n",
      "           O       0.95      1.00      0.98       318\n",
      "           P       1.00      0.99      0.99       349\n",
      "           Q       0.99      0.99      0.99       323\n",
      "           R       0.99      0.95      0.97       330\n",
      "           S       0.98      0.99      0.99       340\n",
      "           T       1.00      0.99      0.99       351\n",
      "           U       0.86      0.98      0.92       333\n",
      "           V       1.00      0.91      0.95       322\n",
      "           W       1.00      0.99      1.00       341\n",
      "           X       0.98      1.00      0.99       324\n",
      "           Y       1.00      1.00      1.00       352\n",
      "           Z       1.00      0.99      1.00       342\n",
      "\n",
      "    accuracy                           0.98      8580\n",
      "   macro avg       0.98      0.98      0.98      8580\n",
      "weighted avg       0.98      0.98      0.98      8580\n",
      "\n",
      "Accuracy : 0.9790209790209791\n",
      "f-1 score : 0.9789328932461326\n"
     ]
    }
   ],
   "source": [
    "print(classification_report(y_test, y_pred_4))\n",
    "print(\"Accuracy :\",accuracy_score(y_test, y_pred_4))\n",
    "print(\"f-1 score :\",f1_score(y_test, y_pred_4, average='macro'))"
   ]
  },
  {
   "cell_type": "markdown",
   "id": "197a1165",
   "metadata": {},
   "source": [
    "# 1.5 Decision Tree Model"
   ]
  },
  {
   "cell_type": "code",
   "execution_count": 29,
   "id": "9f765448",
   "metadata": {},
   "outputs": [],
   "source": [
    "classifier_5 = DecisionTreeClassifier()\n",
    "classifier_5.fit(X_train,y_train)\n",
    "\n",
    "y_pred_5 = classifier_5.predict(X_test)"
   ]
  },
  {
   "cell_type": "code",
   "execution_count": 30,
   "id": "5529e359",
   "metadata": {},
   "outputs": [
    {
     "data": {
      "text/plain": [
       "array(['O', 'P', 'A', ..., 'J', 'L', 'D'], dtype=object)"
      ]
     },
     "execution_count": 30,
     "metadata": {},
     "output_type": "execute_result"
    }
   ],
   "source": [
    "y_pred_5"
   ]
  },
  {
   "cell_type": "code",
   "execution_count": 43,
   "id": "6e1d3585",
   "metadata": {},
   "outputs": [
    {
     "name": "stdout",
     "output_type": "stream",
     "text": [
      "              precision    recall  f1-score   support\n",
      "\n",
      "           A       0.90      0.98      0.94       307\n",
      "           B       0.98      0.94      0.96       334\n",
      "           C       0.94      0.96      0.95       295\n",
      "           D       0.91      0.91      0.91       325\n",
      "           E       0.94      0.91      0.92       303\n",
      "           F       0.97      0.96      0.96       326\n",
      "           G       0.96      0.97      0.97       325\n",
      "           H       0.97      0.97      0.97       345\n",
      "           I       0.96      0.94      0.95       345\n",
      "           J       0.94      0.92      0.93       331\n",
      "           K       0.92      0.95      0.93       334\n",
      "           L       0.96      0.95      0.95       332\n",
      "           M       0.89      0.83      0.86       341\n",
      "           N       0.84      0.85      0.84       312\n",
      "           O       0.87      0.92      0.89       318\n",
      "           P       0.93      0.96      0.95       349\n",
      "           Q       0.94      0.95      0.95       323\n",
      "           R       0.84      0.85      0.85       330\n",
      "           S       0.91      0.88      0.89       340\n",
      "           T       0.92      0.94      0.93       351\n",
      "           U       0.81      0.82      0.81       333\n",
      "           V       0.88      0.84      0.86       322\n",
      "           W       0.97      0.98      0.98       341\n",
      "           X       0.88      0.91      0.89       324\n",
      "           Y       0.94      0.95      0.94       352\n",
      "           Z       0.95      0.90      0.92       342\n",
      "\n",
      "    accuracy                           0.92      8580\n",
      "   macro avg       0.92      0.92      0.92      8580\n",
      "weighted avg       0.92      0.92      0.92      8580\n",
      "\n",
      "Accuracy : 0.9202797202797203\n",
      "f-1 score : 0.9199879648176401\n"
     ]
    }
   ],
   "source": [
    "print(classification_report(y_test, y_pred_5))\n",
    "print(\"Accuracy :\",accuracy_score(y_test, y_pred_5))\n",
    "print(\"f-1 score :\",f1_score(y_test, y_pred_5, average='macro'))"
   ]
  },
  {
   "cell_type": "markdown",
   "id": "8aa38c11",
   "metadata": {},
   "source": [
    "# 1.6 Random Forest Classifier Model"
   ]
  },
  {
   "cell_type": "code",
   "execution_count": 32,
   "id": "ba9a989f",
   "metadata": {},
   "outputs": [],
   "source": [
    "classifier_6 = RandomForestClassifier(n_estimators=100)\n",
    "classifier_6.fit(X_train,y_train)\n",
    "\n",
    "y_pred_6 = classifier_6.predict(X_test)"
   ]
  },
  {
   "cell_type": "code",
   "execution_count": 33,
   "id": "7f3ee890",
   "metadata": {},
   "outputs": [
    {
     "data": {
      "text/plain": [
       "array(['O', 'P', 'I', ..., 'J', 'L', 'D'], dtype=object)"
      ]
     },
     "execution_count": 33,
     "metadata": {},
     "output_type": "execute_result"
    }
   ],
   "source": [
    "y_pred_6"
   ]
  },
  {
   "cell_type": "code",
   "execution_count": 44,
   "id": "ca5a6e4c",
   "metadata": {},
   "outputs": [
    {
     "name": "stdout",
     "output_type": "stream",
     "text": [
      "              precision    recall  f1-score   support\n",
      "\n",
      "           A       0.98      1.00      0.99       307\n",
      "           B       0.97      1.00      0.98       334\n",
      "           C       1.00      1.00      1.00       295\n",
      "           D       1.00      0.98      0.99       325\n",
      "           E       0.99      0.99      0.99       303\n",
      "           F       1.00      1.00      1.00       326\n",
      "           G       0.98      1.00      0.99       325\n",
      "           H       1.00      0.99      0.99       345\n",
      "           I       0.99      0.99      0.99       345\n",
      "           J       0.99      0.99      0.99       331\n",
      "           K       1.00      0.99      1.00       334\n",
      "           L       0.99      1.00      1.00       332\n",
      "           M       0.95      0.94      0.94       341\n",
      "           N       0.95      0.92      0.93       312\n",
      "           O       0.98      1.00      0.99       318\n",
      "           P       1.00      0.99      0.99       349\n",
      "           Q       0.99      0.99      0.99       323\n",
      "           R       0.98      0.98      0.98       330\n",
      "           S       0.99      0.99      0.99       340\n",
      "           T       1.00      0.99      0.99       351\n",
      "           U       0.94      0.96      0.95       333\n",
      "           V       0.97      0.95      0.96       322\n",
      "           W       1.00      0.99      0.99       341\n",
      "           X       0.98      1.00      0.99       324\n",
      "           Y       0.99      1.00      0.99       352\n",
      "           Z       1.00      0.99      1.00       342\n",
      "\n",
      "    accuracy                           0.98      8580\n",
      "   macro avg       0.98      0.98      0.98      8580\n",
      "weighted avg       0.98      0.98      0.98      8580\n",
      "\n",
      "Accuracy : 0.984965034965035\n",
      "f-1 score : 0.9848447403298579\n"
     ]
    }
   ],
   "source": [
    "print(classification_report(y_test, y_pred_6))\n",
    "print(\"Accuracy :\",accuracy_score(y_test, y_pred_6))\n",
    "print(\"f-1 score :\",f1_score(y_test, y_pred_6, average='macro'))"
   ]
  },
  {
   "cell_type": "markdown",
   "id": "2fe5b497",
   "metadata": {},
   "source": [
    "# Saving the Models"
   ]
  },
  {
   "cell_type": "code",
   "execution_count": 45,
   "id": "d28e252a",
   "metadata": {},
   "outputs": [
    {
     "data": {
      "text/plain": [
       "['Trained_models/randomforest.pkl']"
      ]
     },
     "execution_count": 45,
     "metadata": {},
     "output_type": "execute_result"
    }
   ],
   "source": [
    "joblib.dump(classifier, 'Trained_models/knn.pkl')\n",
    "\n",
    "joblib.dump(classifier_2, 'Trained_models/logisticreg.pkl')\n",
    "\n",
    "joblib.dump(classifier_3, 'Trained_models/gnb.pkl')\n",
    "\n",
    "joblib.dump(classifier_4, 'Trained_models/svm.pkl')\n",
    "\n",
    "joblib.dump(classifier_5, 'Trained_models/decisiontree.pkl')\n",
    "\n",
    "joblib.dump(classifier_6, 'Trained_models/randomforest.pkl')"
   ]
  }
 ],
 "metadata": {
  "kernelspec": {
   "display_name": "Python 3 (ipykernel)",
   "language": "python",
   "name": "python3"
  },
  "language_info": {
   "codemirror_mode": {
    "name": "ipython",
    "version": 3
   },
   "file_extension": ".py",
   "mimetype": "text/x-python",
   "name": "python",
   "nbconvert_exporter": "python",
   "pygments_lexer": "ipython3",
   "version": "3.9.7"
  }
 },
 "nbformat": 4,
 "nbformat_minor": 5
}
