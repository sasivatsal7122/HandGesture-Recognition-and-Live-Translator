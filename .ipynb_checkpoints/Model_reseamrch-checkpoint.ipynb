{
 "cells": [
  {
   "cell_type": "markdown",
   "metadata": {},
   "source": [
    "# 1. Importing libraries and defining dataset"
   ]
  },
  {
   "cell_type": "code",
   "execution_count": 1,
   "metadata": {},
   "outputs": [],
   "source": [
    "# For capturing hamd coordinates\n",
    "import cv2\n",
    "import mediapipe as mp\n",
    "\n",
    "# For processing damta\n",
    "import pandas as pd\n",
    "import numpy as np"
   ]
  },
  {
   "cell_type": "code",
   "execution_count": 3,
   "metadata": {},
   "outputs": [
    {
     "data": {
      "text/html": [
       "<div>\n",
       "<style scoped>\n",
       "    .dataframe tbody tr th:only-of-type {\n",
       "        vertical-align: middle;\n",
       "    }\n",
       "\n",
       "    .dataframe tbody tr th {\n",
       "        vertical-align: top;\n",
       "    }\n",
       "\n",
       "    .dataframe thead th {\n",
       "        text-align: right;\n",
       "    }\n",
       "</style>\n",
       "<table border=\"1\" class=\"dataframe\">\n",
       "  <thead>\n",
       "    <tr style=\"text-align: right;\">\n",
       "      <th></th>\n",
       "      <th>class</th>\n",
       "      <th>x1</th>\n",
       "      <th>y1</th>\n",
       "      <th>x2</th>\n",
       "      <th>y2</th>\n",
       "      <th>x3</th>\n",
       "      <th>y3</th>\n",
       "      <th>x4</th>\n",
       "      <th>y4</th>\n",
       "      <th>x5</th>\n",
       "      <th>...</th>\n",
       "      <th>x17</th>\n",
       "      <th>y17</th>\n",
       "      <th>x18</th>\n",
       "      <th>y18</th>\n",
       "      <th>x19</th>\n",
       "      <th>y19</th>\n",
       "      <th>x20</th>\n",
       "      <th>y20</th>\n",
       "      <th>x21</th>\n",
       "      <th>y21</th>\n",
       "    </tr>\n",
       "  </thead>\n",
       "  <tbody>\n",
       "    <tr>\n",
       "      <th>0</th>\n",
       "      <td>A</td>\n",
       "      <td>0.530803</td>\n",
       "      <td>0.581163</td>\n",
       "      <td>0.413990</td>\n",
       "      <td>0.501149</td>\n",
       "      <td>0.355407</td>\n",
       "      <td>0.369223</td>\n",
       "      <td>0.345517</td>\n",
       "      <td>0.263534</td>\n",
       "      <td>0.354250</td>\n",
       "      <td>...</td>\n",
       "      <td>0.534037</td>\n",
       "      <td>0.476981</td>\n",
       "      <td>0.665000</td>\n",
       "      <td>0.338577</td>\n",
       "      <td>0.605741</td>\n",
       "      <td>0.320499</td>\n",
       "      <td>0.588447</td>\n",
       "      <td>0.400885</td>\n",
       "      <td>0.594126</td>\n",
       "      <td>0.455363</td>\n",
       "    </tr>\n",
       "    <tr>\n",
       "      <th>1</th>\n",
       "      <td>A</td>\n",
       "      <td>0.503664</td>\n",
       "      <td>0.616673</td>\n",
       "      <td>0.377512</td>\n",
       "      <td>0.536617</td>\n",
       "      <td>0.317852</td>\n",
       "      <td>0.408111</td>\n",
       "      <td>0.306450</td>\n",
       "      <td>0.296595</td>\n",
       "      <td>0.316670</td>\n",
       "      <td>...</td>\n",
       "      <td>0.494619</td>\n",
       "      <td>0.508490</td>\n",
       "      <td>0.635405</td>\n",
       "      <td>0.349954</td>\n",
       "      <td>0.561715</td>\n",
       "      <td>0.359349</td>\n",
       "      <td>0.546541</td>\n",
       "      <td>0.440563</td>\n",
       "      <td>0.551058</td>\n",
       "      <td>0.498263</td>\n",
       "    </tr>\n",
       "    <tr>\n",
       "      <th>2</th>\n",
       "      <td>A</td>\n",
       "      <td>0.267808</td>\n",
       "      <td>0.670679</td>\n",
       "      <td>0.187360</td>\n",
       "      <td>0.610215</td>\n",
       "      <td>0.141140</td>\n",
       "      <td>0.503103</td>\n",
       "      <td>0.133638</td>\n",
       "      <td>0.422246</td>\n",
       "      <td>0.138989</td>\n",
       "      <td>...</td>\n",
       "      <td>0.298920</td>\n",
       "      <td>0.586336</td>\n",
       "      <td>0.368706</td>\n",
       "      <td>0.504098</td>\n",
       "      <td>0.369881</td>\n",
       "      <td>0.461587</td>\n",
       "      <td>0.362212</td>\n",
       "      <td>0.517269</td>\n",
       "      <td>0.349507</td>\n",
       "      <td>0.565708</td>\n",
       "    </tr>\n",
       "    <tr>\n",
       "      <th>3</th>\n",
       "      <td>A</td>\n",
       "      <td>0.289091</td>\n",
       "      <td>0.751779</td>\n",
       "      <td>0.167962</td>\n",
       "      <td>0.654705</td>\n",
       "      <td>0.100007</td>\n",
       "      <td>0.499485</td>\n",
       "      <td>0.095107</td>\n",
       "      <td>0.371244</td>\n",
       "      <td>0.122449</td>\n",
       "      <td>...</td>\n",
       "      <td>0.294725</td>\n",
       "      <td>0.624627</td>\n",
       "      <td>0.457846</td>\n",
       "      <td>0.480413</td>\n",
       "      <td>0.393687</td>\n",
       "      <td>0.455553</td>\n",
       "      <td>0.365366</td>\n",
       "      <td>0.547497</td>\n",
       "      <td>0.356335</td>\n",
       "      <td>0.612805</td>\n",
       "    </tr>\n",
       "    <tr>\n",
       "      <th>4</th>\n",
       "      <td>A</td>\n",
       "      <td>0.285160</td>\n",
       "      <td>0.762803</td>\n",
       "      <td>0.161197</td>\n",
       "      <td>0.667723</td>\n",
       "      <td>0.094453</td>\n",
       "      <td>0.512100</td>\n",
       "      <td>0.090644</td>\n",
       "      <td>0.383932</td>\n",
       "      <td>0.113567</td>\n",
       "      <td>...</td>\n",
       "      <td>0.292644</td>\n",
       "      <td>0.635424</td>\n",
       "      <td>0.450271</td>\n",
       "      <td>0.489606</td>\n",
       "      <td>0.388296</td>\n",
       "      <td>0.466932</td>\n",
       "      <td>0.361084</td>\n",
       "      <td>0.560643</td>\n",
       "      <td>0.352804</td>\n",
       "      <td>0.623975</td>\n",
       "    </tr>\n",
       "    <tr>\n",
       "      <th>5</th>\n",
       "      <td>A</td>\n",
       "      <td>0.280310</td>\n",
       "      <td>0.770427</td>\n",
       "      <td>0.152314</td>\n",
       "      <td>0.678216</td>\n",
       "      <td>0.081021</td>\n",
       "      <td>0.524083</td>\n",
       "      <td>0.077630</td>\n",
       "      <td>0.399068</td>\n",
       "      <td>0.107794</td>\n",
       "      <td>...</td>\n",
       "      <td>0.284430</td>\n",
       "      <td>0.640549</td>\n",
       "      <td>0.445078</td>\n",
       "      <td>0.498075</td>\n",
       "      <td>0.379355</td>\n",
       "      <td>0.471122</td>\n",
       "      <td>0.355311</td>\n",
       "      <td>0.562981</td>\n",
       "      <td>0.350741</td>\n",
       "      <td>0.630216</td>\n",
       "    </tr>\n",
       "    <tr>\n",
       "      <th>6</th>\n",
       "      <td>A</td>\n",
       "      <td>0.274550</td>\n",
       "      <td>0.776984</td>\n",
       "      <td>0.151220</td>\n",
       "      <td>0.687646</td>\n",
       "      <td>0.080959</td>\n",
       "      <td>0.535343</td>\n",
       "      <td>0.072944</td>\n",
       "      <td>0.408230</td>\n",
       "      <td>0.101618</td>\n",
       "      <td>...</td>\n",
       "      <td>0.283215</td>\n",
       "      <td>0.646868</td>\n",
       "      <td>0.435993</td>\n",
       "      <td>0.506300</td>\n",
       "      <td>0.376239</td>\n",
       "      <td>0.480962</td>\n",
       "      <td>0.350880</td>\n",
       "      <td>0.574878</td>\n",
       "      <td>0.339769</td>\n",
       "      <td>0.644247</td>\n",
       "    </tr>\n",
       "    <tr>\n",
       "      <th>7</th>\n",
       "      <td>A</td>\n",
       "      <td>0.277456</td>\n",
       "      <td>0.783530</td>\n",
       "      <td>0.147582</td>\n",
       "      <td>0.689846</td>\n",
       "      <td>0.071741</td>\n",
       "      <td>0.539836</td>\n",
       "      <td>0.063596</td>\n",
       "      <td>0.414261</td>\n",
       "      <td>0.092673</td>\n",
       "      <td>...</td>\n",
       "      <td>0.283368</td>\n",
       "      <td>0.655386</td>\n",
       "      <td>0.431004</td>\n",
       "      <td>0.515131</td>\n",
       "      <td>0.374581</td>\n",
       "      <td>0.486279</td>\n",
       "      <td>0.349532</td>\n",
       "      <td>0.578436</td>\n",
       "      <td>0.339866</td>\n",
       "      <td>0.644906</td>\n",
       "    </tr>\n",
       "    <tr>\n",
       "      <th>8</th>\n",
       "      <td>A</td>\n",
       "      <td>0.280078</td>\n",
       "      <td>0.788368</td>\n",
       "      <td>0.150851</td>\n",
       "      <td>0.696469</td>\n",
       "      <td>0.073741</td>\n",
       "      <td>0.546784</td>\n",
       "      <td>0.062120</td>\n",
       "      <td>0.422311</td>\n",
       "      <td>0.088380</td>\n",
       "      <td>...</td>\n",
       "      <td>0.285535</td>\n",
       "      <td>0.660151</td>\n",
       "      <td>0.429204</td>\n",
       "      <td>0.522354</td>\n",
       "      <td>0.379037</td>\n",
       "      <td>0.487302</td>\n",
       "      <td>0.354566</td>\n",
       "      <td>0.578693</td>\n",
       "      <td>0.344249</td>\n",
       "      <td>0.646549</td>\n",
       "    </tr>\n",
       "    <tr>\n",
       "      <th>9</th>\n",
       "      <td>A</td>\n",
       "      <td>0.277945</td>\n",
       "      <td>0.787239</td>\n",
       "      <td>0.155729</td>\n",
       "      <td>0.704394</td>\n",
       "      <td>0.082830</td>\n",
       "      <td>0.554113</td>\n",
       "      <td>0.072586</td>\n",
       "      <td>0.429771</td>\n",
       "      <td>0.087657</td>\n",
       "      <td>...</td>\n",
       "      <td>0.283121</td>\n",
       "      <td>0.661055</td>\n",
       "      <td>0.431149</td>\n",
       "      <td>0.529704</td>\n",
       "      <td>0.383147</td>\n",
       "      <td>0.491124</td>\n",
       "      <td>0.354732</td>\n",
       "      <td>0.582953</td>\n",
       "      <td>0.346235</td>\n",
       "      <td>0.649655</td>\n",
       "    </tr>\n",
       "    <tr>\n",
       "      <th>10</th>\n",
       "      <td>A</td>\n",
       "      <td>0.290276</td>\n",
       "      <td>0.793340</td>\n",
       "      <td>0.163368</td>\n",
       "      <td>0.711871</td>\n",
       "      <td>0.085909</td>\n",
       "      <td>0.563261</td>\n",
       "      <td>0.071449</td>\n",
       "      <td>0.440306</td>\n",
       "      <td>0.088377</td>\n",
       "      <td>...</td>\n",
       "      <td>0.294494</td>\n",
       "      <td>0.672557</td>\n",
       "      <td>0.433023</td>\n",
       "      <td>0.536033</td>\n",
       "      <td>0.390779</td>\n",
       "      <td>0.498036</td>\n",
       "      <td>0.365432</td>\n",
       "      <td>0.589863</td>\n",
       "      <td>0.353976</td>\n",
       "      <td>0.659500</td>\n",
       "    </tr>\n",
       "    <tr>\n",
       "      <th>11</th>\n",
       "      <td>A</td>\n",
       "      <td>0.294636</td>\n",
       "      <td>0.803983</td>\n",
       "      <td>0.166303</td>\n",
       "      <td>0.719984</td>\n",
       "      <td>0.091209</td>\n",
       "      <td>0.569768</td>\n",
       "      <td>0.080401</td>\n",
       "      <td>0.446350</td>\n",
       "      <td>0.097908</td>\n",
       "      <td>...</td>\n",
       "      <td>0.302999</td>\n",
       "      <td>0.679905</td>\n",
       "      <td>0.438033</td>\n",
       "      <td>0.548919</td>\n",
       "      <td>0.397926</td>\n",
       "      <td>0.505515</td>\n",
       "      <td>0.374080</td>\n",
       "      <td>0.596604</td>\n",
       "      <td>0.364628</td>\n",
       "      <td>0.666449</td>\n",
       "    </tr>\n",
       "    <tr>\n",
       "      <th>12</th>\n",
       "      <td>A</td>\n",
       "      <td>0.300123</td>\n",
       "      <td>0.809268</td>\n",
       "      <td>0.175956</td>\n",
       "      <td>0.733746</td>\n",
       "      <td>0.099676</td>\n",
       "      <td>0.584887</td>\n",
       "      <td>0.083675</td>\n",
       "      <td>0.462197</td>\n",
       "      <td>0.097154</td>\n",
       "      <td>...</td>\n",
       "      <td>0.306073</td>\n",
       "      <td>0.686651</td>\n",
       "      <td>0.441500</td>\n",
       "      <td>0.556311</td>\n",
       "      <td>0.403256</td>\n",
       "      <td>0.511329</td>\n",
       "      <td>0.377647</td>\n",
       "      <td>0.604962</td>\n",
       "      <td>0.368290</td>\n",
       "      <td>0.676963</td>\n",
       "    </tr>\n",
       "    <tr>\n",
       "      <th>13</th>\n",
       "      <td>A</td>\n",
       "      <td>0.302279</td>\n",
       "      <td>0.814527</td>\n",
       "      <td>0.189712</td>\n",
       "      <td>0.750525</td>\n",
       "      <td>0.107933</td>\n",
       "      <td>0.601381</td>\n",
       "      <td>0.085826</td>\n",
       "      <td>0.475847</td>\n",
       "      <td>0.095199</td>\n",
       "      <td>...</td>\n",
       "      <td>0.311821</td>\n",
       "      <td>0.695411</td>\n",
       "      <td>0.438103</td>\n",
       "      <td>0.570837</td>\n",
       "      <td>0.410724</td>\n",
       "      <td>0.520997</td>\n",
       "      <td>0.386487</td>\n",
       "      <td>0.615183</td>\n",
       "      <td>0.373598</td>\n",
       "      <td>0.689464</td>\n",
       "    </tr>\n",
       "    <tr>\n",
       "      <th>14</th>\n",
       "      <td>A</td>\n",
       "      <td>0.305094</td>\n",
       "      <td>0.818209</td>\n",
       "      <td>0.191251</td>\n",
       "      <td>0.771750</td>\n",
       "      <td>0.107222</td>\n",
       "      <td>0.622569</td>\n",
       "      <td>0.088461</td>\n",
       "      <td>0.496663</td>\n",
       "      <td>0.095966</td>\n",
       "      <td>...</td>\n",
       "      <td>0.318932</td>\n",
       "      <td>0.714514</td>\n",
       "      <td>0.440239</td>\n",
       "      <td>0.582715</td>\n",
       "      <td>0.414805</td>\n",
       "      <td>0.539804</td>\n",
       "      <td>0.391574</td>\n",
       "      <td>0.635618</td>\n",
       "      <td>0.379516</td>\n",
       "      <td>0.708882</td>\n",
       "    </tr>\n",
       "    <tr>\n",
       "      <th>15</th>\n",
       "      <td>A</td>\n",
       "      <td>0.311321</td>\n",
       "      <td>0.842371</td>\n",
       "      <td>0.195238</td>\n",
       "      <td>0.782809</td>\n",
       "      <td>0.111404</td>\n",
       "      <td>0.632057</td>\n",
       "      <td>0.088665</td>\n",
       "      <td>0.509451</td>\n",
       "      <td>0.095537</td>\n",
       "      <td>...</td>\n",
       "      <td>0.325030</td>\n",
       "      <td>0.725961</td>\n",
       "      <td>0.444178</td>\n",
       "      <td>0.603795</td>\n",
       "      <td>0.418483</td>\n",
       "      <td>0.552363</td>\n",
       "      <td>0.395147</td>\n",
       "      <td>0.645178</td>\n",
       "      <td>0.384053</td>\n",
       "      <td>0.718700</td>\n",
       "    </tr>\n",
       "    <tr>\n",
       "      <th>16</th>\n",
       "      <td>A</td>\n",
       "      <td>0.323947</td>\n",
       "      <td>0.865826</td>\n",
       "      <td>0.206646</td>\n",
       "      <td>0.806803</td>\n",
       "      <td>0.119469</td>\n",
       "      <td>0.658264</td>\n",
       "      <td>0.094402</td>\n",
       "      <td>0.533040</td>\n",
       "      <td>0.101447</td>\n",
       "      <td>...</td>\n",
       "      <td>0.328737</td>\n",
       "      <td>0.739690</td>\n",
       "      <td>0.444709</td>\n",
       "      <td>0.617229</td>\n",
       "      <td>0.420584</td>\n",
       "      <td>0.564482</td>\n",
       "      <td>0.399827</td>\n",
       "      <td>0.657567</td>\n",
       "      <td>0.389718</td>\n",
       "      <td>0.727766</td>\n",
       "    </tr>\n",
       "    <tr>\n",
       "      <th>17</th>\n",
       "      <td>A</td>\n",
       "      <td>0.330483</td>\n",
       "      <td>0.881578</td>\n",
       "      <td>0.215871</td>\n",
       "      <td>0.827257</td>\n",
       "      <td>0.127073</td>\n",
       "      <td>0.676077</td>\n",
       "      <td>0.098323</td>\n",
       "      <td>0.549068</td>\n",
       "      <td>0.100705</td>\n",
       "      <td>...</td>\n",
       "      <td>0.332030</td>\n",
       "      <td>0.752880</td>\n",
       "      <td>0.447527</td>\n",
       "      <td>0.630159</td>\n",
       "      <td>0.426998</td>\n",
       "      <td>0.582462</td>\n",
       "      <td>0.405957</td>\n",
       "      <td>0.678219</td>\n",
       "      <td>0.393497</td>\n",
       "      <td>0.747534</td>\n",
       "    </tr>\n",
       "    <tr>\n",
       "      <th>18</th>\n",
       "      <td>A</td>\n",
       "      <td>0.329682</td>\n",
       "      <td>0.900450</td>\n",
       "      <td>0.216330</td>\n",
       "      <td>0.832643</td>\n",
       "      <td>0.133917</td>\n",
       "      <td>0.686519</td>\n",
       "      <td>0.106511</td>\n",
       "      <td>0.563634</td>\n",
       "      <td>0.105588</td>\n",
       "      <td>...</td>\n",
       "      <td>0.342685</td>\n",
       "      <td>0.766000</td>\n",
       "      <td>0.455344</td>\n",
       "      <td>0.647656</td>\n",
       "      <td>0.433530</td>\n",
       "      <td>0.589918</td>\n",
       "      <td>0.413299</td>\n",
       "      <td>0.679874</td>\n",
       "      <td>0.403856</td>\n",
       "      <td>0.749661</td>\n",
       "    </tr>\n",
       "    <tr>\n",
       "      <th>19</th>\n",
       "      <td>A</td>\n",
       "      <td>0.341393</td>\n",
       "      <td>0.903080</td>\n",
       "      <td>0.225069</td>\n",
       "      <td>0.842201</td>\n",
       "      <td>0.137352</td>\n",
       "      <td>0.696061</td>\n",
       "      <td>0.107516</td>\n",
       "      <td>0.570237</td>\n",
       "      <td>0.112386</td>\n",
       "      <td>...</td>\n",
       "      <td>0.345220</td>\n",
       "      <td>0.774542</td>\n",
       "      <td>0.461439</td>\n",
       "      <td>0.656768</td>\n",
       "      <td>0.439288</td>\n",
       "      <td>0.597534</td>\n",
       "      <td>0.418824</td>\n",
       "      <td>0.690327</td>\n",
       "      <td>0.408322</td>\n",
       "      <td>0.763517</td>\n",
       "    </tr>\n",
       "  </tbody>\n",
       "</table>\n",
       "<p>20 rows × 43 columns</p>\n",
       "</div>"
      ],
      "text/plain": [
       "   class        x1        y1        x2        y2        x3        y3  \\\n",
       "0      A  0.530803  0.581163  0.413990  0.501149  0.355407  0.369223   \n",
       "1      A  0.503664  0.616673  0.377512  0.536617  0.317852  0.408111   \n",
       "2      A  0.267808  0.670679  0.187360  0.610215  0.141140  0.503103   \n",
       "3      A  0.289091  0.751779  0.167962  0.654705  0.100007  0.499485   \n",
       "4      A  0.285160  0.762803  0.161197  0.667723  0.094453  0.512100   \n",
       "5      A  0.280310  0.770427  0.152314  0.678216  0.081021  0.524083   \n",
       "6      A  0.274550  0.776984  0.151220  0.687646  0.080959  0.535343   \n",
       "7      A  0.277456  0.783530  0.147582  0.689846  0.071741  0.539836   \n",
       "8      A  0.280078  0.788368  0.150851  0.696469  0.073741  0.546784   \n",
       "9      A  0.277945  0.787239  0.155729  0.704394  0.082830  0.554113   \n",
       "10     A  0.290276  0.793340  0.163368  0.711871  0.085909  0.563261   \n",
       "11     A  0.294636  0.803983  0.166303  0.719984  0.091209  0.569768   \n",
       "12     A  0.300123  0.809268  0.175956  0.733746  0.099676  0.584887   \n",
       "13     A  0.302279  0.814527  0.189712  0.750525  0.107933  0.601381   \n",
       "14     A  0.305094  0.818209  0.191251  0.771750  0.107222  0.622569   \n",
       "15     A  0.311321  0.842371  0.195238  0.782809  0.111404  0.632057   \n",
       "16     A  0.323947  0.865826  0.206646  0.806803  0.119469  0.658264   \n",
       "17     A  0.330483  0.881578  0.215871  0.827257  0.127073  0.676077   \n",
       "18     A  0.329682  0.900450  0.216330  0.832643  0.133917  0.686519   \n",
       "19     A  0.341393  0.903080  0.225069  0.842201  0.137352  0.696061   \n",
       "\n",
       "          x4        y4        x5  ...       x17       y17       x18       y18  \\\n",
       "0   0.345517  0.263534  0.354250  ...  0.534037  0.476981  0.665000  0.338577   \n",
       "1   0.306450  0.296595  0.316670  ...  0.494619  0.508490  0.635405  0.349954   \n",
       "2   0.133638  0.422246  0.138989  ...  0.298920  0.586336  0.368706  0.504098   \n",
       "3   0.095107  0.371244  0.122449  ...  0.294725  0.624627  0.457846  0.480413   \n",
       "4   0.090644  0.383932  0.113567  ...  0.292644  0.635424  0.450271  0.489606   \n",
       "5   0.077630  0.399068  0.107794  ...  0.284430  0.640549  0.445078  0.498075   \n",
       "6   0.072944  0.408230  0.101618  ...  0.283215  0.646868  0.435993  0.506300   \n",
       "7   0.063596  0.414261  0.092673  ...  0.283368  0.655386  0.431004  0.515131   \n",
       "8   0.062120  0.422311  0.088380  ...  0.285535  0.660151  0.429204  0.522354   \n",
       "9   0.072586  0.429771  0.087657  ...  0.283121  0.661055  0.431149  0.529704   \n",
       "10  0.071449  0.440306  0.088377  ...  0.294494  0.672557  0.433023  0.536033   \n",
       "11  0.080401  0.446350  0.097908  ...  0.302999  0.679905  0.438033  0.548919   \n",
       "12  0.083675  0.462197  0.097154  ...  0.306073  0.686651  0.441500  0.556311   \n",
       "13  0.085826  0.475847  0.095199  ...  0.311821  0.695411  0.438103  0.570837   \n",
       "14  0.088461  0.496663  0.095966  ...  0.318932  0.714514  0.440239  0.582715   \n",
       "15  0.088665  0.509451  0.095537  ...  0.325030  0.725961  0.444178  0.603795   \n",
       "16  0.094402  0.533040  0.101447  ...  0.328737  0.739690  0.444709  0.617229   \n",
       "17  0.098323  0.549068  0.100705  ...  0.332030  0.752880  0.447527  0.630159   \n",
       "18  0.106511  0.563634  0.105588  ...  0.342685  0.766000  0.455344  0.647656   \n",
       "19  0.107516  0.570237  0.112386  ...  0.345220  0.774542  0.461439  0.656768   \n",
       "\n",
       "         x19       y19       x20       y20       x21       y21  \n",
       "0   0.605741  0.320499  0.588447  0.400885  0.594126  0.455363  \n",
       "1   0.561715  0.359349  0.546541  0.440563  0.551058  0.498263  \n",
       "2   0.369881  0.461587  0.362212  0.517269  0.349507  0.565708  \n",
       "3   0.393687  0.455553  0.365366  0.547497  0.356335  0.612805  \n",
       "4   0.388296  0.466932  0.361084  0.560643  0.352804  0.623975  \n",
       "5   0.379355  0.471122  0.355311  0.562981  0.350741  0.630216  \n",
       "6   0.376239  0.480962  0.350880  0.574878  0.339769  0.644247  \n",
       "7   0.374581  0.486279  0.349532  0.578436  0.339866  0.644906  \n",
       "8   0.379037  0.487302  0.354566  0.578693  0.344249  0.646549  \n",
       "9   0.383147  0.491124  0.354732  0.582953  0.346235  0.649655  \n",
       "10  0.390779  0.498036  0.365432  0.589863  0.353976  0.659500  \n",
       "11  0.397926  0.505515  0.374080  0.596604  0.364628  0.666449  \n",
       "12  0.403256  0.511329  0.377647  0.604962  0.368290  0.676963  \n",
       "13  0.410724  0.520997  0.386487  0.615183  0.373598  0.689464  \n",
       "14  0.414805  0.539804  0.391574  0.635618  0.379516  0.708882  \n",
       "15  0.418483  0.552363  0.395147  0.645178  0.384053  0.718700  \n",
       "16  0.420584  0.564482  0.399827  0.657567  0.389718  0.727766  \n",
       "17  0.426998  0.582462  0.405957  0.678219  0.393497  0.747534  \n",
       "18  0.433530  0.589918  0.413299  0.679874  0.403856  0.749661  \n",
       "19  0.439288  0.597534  0.418824  0.690327  0.408322  0.763517  \n",
       "\n",
       "[20 rows x 43 columns]"
      ]
     },
     "execution_count": 3,
     "metadata": {},
     "output_type": "execute_result"
    }
   ],
   "source": [
    "# Reading the damtaset\n",
    "dataset = pd.read_csv('hand_dataset.csv')\n",
    "\n",
    "dataset.head(20)"
   ]
  },
  {
   "cell_type": "code",
   "execution_count": 4,
   "metadata": {},
   "outputs": [
    {
     "data": {
      "text/plain": [
       "A    1000\n",
       "B    1000\n",
       "Y    1000\n",
       "X    1000\n",
       "W    1000\n",
       "V    1000\n",
       "U    1000\n",
       "T    1000\n",
       "S    1000\n",
       "R    1000\n",
       "Q    1000\n",
       "P    1000\n",
       "O    1000\n",
       "N    1000\n",
       "M    1000\n",
       "L    1000\n",
       "K    1000\n",
       "J    1000\n",
       "I    1000\n",
       "H    1000\n",
       "G    1000\n",
       "F    1000\n",
       "E    1000\n",
       "D    1000\n",
       "C    1000\n",
       "Z    1000\n",
       "Name: class, dtype: int64"
      ]
     },
     "execution_count": 4,
     "metadata": {},
     "output_type": "execute_result"
    }
   ],
   "source": [
    "# damtaset overview, should return 1000 for each alphabet\n",
    "dataset['class'].value_counts()"
   ]
  },
  {
   "cell_type": "markdown",
   "metadata": {},
   "source": [
    "# 2. Creating Train and Test Data"
   ]
  },
  {
   "cell_type": "code",
   "execution_count": 5,
   "metadata": {},
   "outputs": [
    {
     "data": {
      "text/plain": [
       "array([[0.5308032 , 0.58116275, 0.4139902 , ..., 0.40088472, 0.59412593,\n",
       "        0.45536327],\n",
       "       [0.50366437, 0.61667281, 0.37751189, ..., 0.4405632 , 0.55105829,\n",
       "        0.49826261],\n",
       "       [0.26780751, 0.67067909, 0.18736038, ..., 0.51726931, 0.34950748,\n",
       "        0.56570804],\n",
       "       ...,\n",
       "       [0.5923028 , 0.79763687, 0.46212453, ..., 0.58209801, 0.46417981,\n",
       "        0.63919067],\n",
       "       [0.58849472, 0.79634482, 0.45975158, ..., 0.57587278, 0.46483576,\n",
       "        0.63999385],\n",
       "       [0.59929621, 0.79213279, 0.46550113, ..., 0.56292117, 0.46786231,\n",
       "        0.62495214]])"
      ]
     },
     "execution_count": 5,
     "metadata": {},
     "output_type": "execute_result"
    }
   ],
   "source": [
    "# Defining X and Y from dataset for training and testing\n",
    "\n",
    "X = dataset.iloc[:, 1:].values\n",
    "X"
   ]
  },
  {
   "cell_type": "code",
   "execution_count": 6,
   "metadata": {},
   "outputs": [
    {
     "data": {
      "text/plain": [
       "array(['A', 'A', 'A', ..., 'Z', 'Z', 'Z'], dtype=object)"
      ]
     },
     "execution_count": 6,
     "metadata": {},
     "output_type": "execute_result"
    }
   ],
   "source": [
    "Y = dataset.iloc[:, 0].values\n",
    "Y"
   ]
  },
  {
   "cell_type": "code",
   "execution_count": 7,
   "metadata": {},
   "outputs": [],
   "source": [
    "from sklearn.model_selection import train_test_split\n",
    "\n",
    "# We will be taking 33% from 1000 for our test data.\n",
    "X_train, X_test, y_train, y_test = train_test_split(X, Y, test_size=0.33)"
   ]
  },
  {
   "cell_type": "code",
   "execution_count": 8,
   "metadata": {},
   "outputs": [
    {
     "data": {
      "text/plain": [
       "(array([[0.09376033, 0.57354999, 0.04851374, ..., 0.52799761, 0.17729978,\n",
       "         0.54939461],\n",
       "        [0.3908619 , 0.78482884, 0.45481557, ..., 0.8037402 , 0.66733056,\n",
       "         0.83027363],\n",
       "        [0.78564906, 0.56514978, 0.66061729, ..., 0.30955982, 0.75333643,\n",
       "         0.38327295],\n",
       "        ...,\n",
       "        [0.51193839, 1.00262237, 0.36702013, ..., 0.68438125, 0.59991157,\n",
       "         0.7624476 ],\n",
       "        [0.44107139, 0.9730739 , 0.33565852, ..., 0.65560955, 0.23346326,\n",
       "         0.69220376],\n",
       "        [0.57235789, 0.84563804, 0.41627589, ..., 0.57341456, 0.63565063,\n",
       "         0.65144718]]),\n",
       " array([[0.66074103, 0.96233374, 0.48618847, ..., 0.52618206, 0.94698608,\n",
       "         0.49910456],\n",
       "        [0.28905731, 0.68452442, 0.3286218 , ..., 0.6589666 , 0.6124289 ,\n",
       "         0.67547494],\n",
       "        [0.17195472, 0.68084526, 0.09653907, ..., 0.48385772, 0.4180066 ,\n",
       "         0.44252354],\n",
       "        ...,\n",
       "        [0.2729224 , 0.82465565, 0.18711177, ..., 0.58708447, 0.40575361,\n",
       "         0.54593933],\n",
       "        [0.77440721, 0.84024471, 0.68630832, ..., 0.64365858, 0.83915353,\n",
       "         0.70255178],\n",
       "        [0.8154186 , 0.86558622, 0.73071915, ..., 0.6378932 , 0.51733893,\n",
       "         0.64266604]]),\n",
       " array(['G', 'P', 'Z', ..., 'X', 'D', 'T'], dtype=object),\n",
       " array(['Y', 'Q', 'Y', ..., 'Y', 'K', 'C'], dtype=object))"
      ]
     },
     "execution_count": 8,
     "metadata": {},
     "output_type": "execute_result"
    }
   ],
   "source": [
    "X_train, X_test, y_train, y_test"
   ]
  },
  {
   "cell_type": "code",
   "execution_count": 9,
   "metadata": {},
   "outputs": [],
   "source": [
    "# Normalizing / Standarizing dataset\n",
    "\n",
    "from sklearn.preprocessing import StandardScaler\n",
    "scaler = StandardScaler().fit(X_train)\n",
    "\n",
    "X_train = scaler.transform(X_train)\n",
    "X_test = scaler.transform(X_test)"
   ]
  },
  {
   "cell_type": "code",
   "execution_count": 10,
   "metadata": {},
   "outputs": [
    {
     "data": {
      "text/plain": [
       "(array([[-2.05925304, -0.81070411, -2.11164125, ...,  0.06769914,\n",
       "         -1.92204525,  0.05797985],\n",
       "        [-0.42145452,  0.37056134,  0.40283987, ...,  1.601787  ,\n",
       "          0.6231466 ,  1.4765412 ],\n",
       "        [ 1.75484446, -0.85766985,  1.67648552, ..., -1.14757471,\n",
       "          1.06985615, -0.78100687],\n",
       "        ...,\n",
       "        [ 0.24599031,  1.58825046, -0.14049997, ...,  0.93773606,\n",
       "          0.27297621,  1.1339902 ],\n",
       "        [-0.14467027,  1.42304423, -0.33458764, ...,  0.77766535,\n",
       "         -1.63033538,  0.77922825],\n",
       "        [ 0.57905812,  0.71054709,  0.16432927, ...,  0.32037536,\n",
       "          0.45860286,  0.57338976]]),\n",
       " array([[ 1.06627795,  1.36299572,  0.59699744, ...,  0.05759833,\n",
       "          2.07566136, -0.19600679],\n",
       "        [-0.98266125, -0.19024325, -0.37813578, ...,  0.79634224,\n",
       "          0.33799052,  0.69474043],\n",
       "        [-1.6281996 , -0.2108135 , -1.81442681, ..., -0.17787218,\n",
       "         -0.67182781, -0.48176558],\n",
       "        ...,\n",
       "        [-1.0716064 ,  0.59323404, -1.25389931, ...,  0.39642759,\n",
       "         -0.73546912,  0.04052918],\n",
       "        [ 1.69287276,  0.68039287,  1.83547967, ...,  0.71117639,\n",
       "          1.51558526,  0.83149027],\n",
       "        [ 1.91895167,  0.8220779 ,  2.11032505, ...,  0.67910083,\n",
       "         -0.15590136,  0.5290412 ]]))"
      ]
     },
     "execution_count": 10,
     "metadata": {},
     "output_type": "execute_result"
    }
   ],
   "source": [
    "X_train,X_test"
   ]
  },
  {
   "cell_type": "markdown",
   "metadata": {},
   "source": [
    "# 3. Creating classifier model for our alphabet recognition."
   ]
  },
  {
   "cell_type": "code",
   "execution_count": 12,
   "metadata": {},
   "outputs": [
    {
     "data": {
      "text/plain": [
       "KNeighborsClassifier(n_neighbors=3)"
      ]
     },
     "execution_count": 12,
     "metadata": {},
     "output_type": "execute_result"
    }
   ],
   "source": [
    "from sklearn.neighbors import KNeighborsClassifier\n",
    "\n",
    "classifier = KNeighborsClassifier(n_neighbors=3)\n",
    "\n",
    "classifier.fit(X_train, y_train)"
   ]
  },
  {
   "cell_type": "markdown",
   "metadata": {},
   "source": [
    "# 4. Calculating model accuracy"
   ]
  },
  {
   "cell_type": "code",
   "execution_count": 13,
   "metadata": {},
   "outputs": [],
   "source": [
    "y_pred = classifier.predict(X_test)"
   ]
  },
  {
   "cell_type": "code",
   "execution_count": 14,
   "metadata": {},
   "outputs": [
    {
     "data": {
      "text/plain": [
       "array(['Y', 'Q', 'Y', ..., 'Y', 'K', 'C'], dtype=object)"
      ]
     },
     "execution_count": 14,
     "metadata": {},
     "output_type": "execute_result"
    }
   ],
   "source": [
    "y_pred"
   ]
  },
  {
   "cell_type": "code",
   "execution_count": 11,
   "metadata": {},
   "outputs": [
    {
     "name": "stdout",
     "output_type": "stream",
     "text": [
      "              precision    recall  f1-score   support\n",
      "\n",
      "           A       0.98      0.99      0.98       347\n",
      "           B       0.98      1.00      0.99       324\n",
      "           C       1.00      1.00      1.00       336\n",
      "           D       0.99      0.97      0.98       337\n",
      "           E       1.00      0.97      0.98       327\n",
      "           F       1.00      0.99      1.00       308\n",
      "           G       0.98      1.00      0.99       314\n",
      "           H       1.00      0.99      1.00       356\n",
      "           I       1.00      0.99      0.99       348\n",
      "           J       0.98      0.99      0.99       351\n",
      "           K       0.99      0.99      0.99       319\n",
      "           L       1.00      1.00      1.00       326\n",
      "           M       0.94      0.96      0.95       323\n",
      "           N       0.96      0.93      0.94       325\n",
      "           O       0.97      0.99      0.98       317\n",
      "           P       1.00      0.99      0.99       344\n",
      "           Q       0.99      0.99      0.99       338\n",
      "           R       0.97      0.97      0.97       325\n",
      "           S       0.96      0.98      0.97       328\n",
      "           T       0.99      0.98      0.98       342\n",
      "           U       0.91      0.90      0.91       332\n",
      "           V       0.95      0.95      0.95       332\n",
      "           W       1.00      0.99      1.00       326\n",
      "           X       0.98      0.99      0.99       333\n",
      "           Y       0.99      1.00      1.00       326\n",
      "           Z       1.00      1.00      1.00       296\n",
      "\n",
      "    accuracy                           0.98      8580\n",
      "   macro avg       0.98      0.98      0.98      8580\n",
      "weighted avg       0.98      0.98      0.98      8580\n",
      "\n",
      "0.9811188811188811\n"
     ]
    }
   ],
   "source": [
    "from sklearn.metrics import classification_report, accuracy_score\n",
    "\n",
    "print(classification_report(y_test, y_pred))\n",
    "print(accuracy_score(y_test, y_pred))"
   ]
  },
  {
   "cell_type": "markdown",
   "metadata": {},
   "source": [
    "# 5. Show graph for adjusting number of *n_neighbors*"
   ]
  },
  {
   "cell_type": "code",
   "execution_count": 15,
   "metadata": {},
   "outputs": [],
   "source": [
    "error = []\n",
    "\n",
    "# Calculating error for K values between 1 and 10\n",
    "for i in range(1, 10):\n",
    "    knn = KNeighborsClassifier(n_neighbors=i)\n",
    "    knn.fit(X_train, y_train)\n",
    "    pred_i = knn.predict(X_test)\n",
    "    error.append(np.mean(pred_i != y_test))"
   ]
  },
  {
   "cell_type": "code",
   "execution_count": 18,
   "metadata": {},
   "outputs": [
    {
     "data": {
      "text/plain": [
       "[0.012354312354312355,\n",
       " 0.019696969696969695,\n",
       " 0.022494172494172494,\n",
       " 0.029603729603729603,\n",
       " 0.03193473193473193,\n",
       " 0.03787878787878788,\n",
       " 0.04219114219114219,\n",
       " 0.0479020979020979,\n",
       " 0.051515151515151514]"
      ]
     },
     "execution_count": 18,
     "metadata": {},
     "output_type": "execute_result"
    }
   ],
   "source": [
    "error"
   ]
  },
  {
   "cell_type": "code",
   "execution_count": 17,
   "metadata": {},
   "outputs": [
    {
     "data": {
      "text/plain": [
       "Text(0, 0.5, 'Mean Error')"
      ]
     },
     "execution_count": 17,
     "metadata": {},
     "output_type": "execute_result"
    },
    {
     "data": {
      "image/png": "[encoded data removed]",
      "text/plain": [
       "<Figure size 864x432 with 1 Axes>"
      ]
     },
     "metadata": {
      "needs_background": "light"
     },
     "output_type": "display_data"
    }
   ],
   "source": [
    "import matplotlib.pyplot as plt\n",
    "\n",
    "plt.figure(figsize=(12, 6))\n",
    "plt.plot(range(1, 10), error, color='red', linestyle='dashed', marker='o',\n",
    "         markerfacecolor='blue', markersize=10)\n",
    "plt.title('Error Rate K Value')\n",
    "plt.xlabel('K Value')\n",
    "plt.ylabel('Mean Error')"
   ]
  },
  {
   "cell_type": "code",
   "execution_count": 24,
   "metadata": {},
   "outputs": [],
   "source": [
    "ls = [i for i in range(1,10)]"
   ]
  },
  {
   "cell_type": "code",
   "execution_count": 32,
   "metadata": {},
   "outputs": [
    {
     "data": {
      "application/vnd.plotly.v1+json": {
       "config": {
        "plotlyServerURL": "https://plot.ly"
       },
       "data": [
        {
         "type": "scatter",
         "x": [
          1,
          2,
          3,
          4,
          5,
          6,
          7,
          8,
          9
         ],
         "y": [
          0.012354312354312355,
          0.019696969696969695,
          0.022494172494172494,
          0.029603729603729603,
          0.03193473193473193,
          0.03787878787878788,
          0.04219114219114219,
          0.0479020979020979,
          0.051515151515151514
         ]
        }
       ],
       "layout": {
        "height": 900,
        "template": {
         "data": {
          "bar": [
           {
            "error_x": {
             "color": "#2a3f5f"
            },
            "error_y": {
             "color": "#2a3f5f"
            },
            "marker": {
             "line": {
              "color": "#E5ECF6",
              "width": 0.5
             }
            },
            "type": "bar"
           }
          ],
          "barpolar": [
           {
            "marker": {
             "line": {
              "color": "#E5ECF6",
              "width": 0.5
             }
            },
            "type": "barpolar"
           }
          ],
          "carpet": [
           {
            "aaxis": {
             "endlinecolor": "#2a3f5f",
             "gridcolor": "white",
             "linecolor": "white",
             "minorgridcolor": "white",
             "startlinecolor": "#2a3f5f"
            },
            "baxis": {
             "endlinecolor": "#2a3f5f",
             "gridcolor": "white",
             "linecolor": "white",
             "minorgridcolor": "white",
             "startlinecolor": "#2a3f5f"
            },
            "type": "carpet"
           }
          ],
          "choropleth": [
           {
            "colorbar": {
             "outlinewidth": 0,
             "ticks": ""
            },
            "type": "choropleth"
           }
          ],
          "contour": [
           {
            "colorbar": {
             "outlinewidth": 0,
             "ticks": ""
            },
            "colorscale": [
             [
              0,
              "#0d0887"
             ],
             [
              0.1111111111111111,
              "#46039f"
             ],
             [
              0.2222222222222222,
              "#7201a8"
             ],
             [
              0.3333333333333333,
              "#9c179e"
             ],
             [
              0.4444444444444444,
              "#bd3786"
             ],
             [
              0.5555555555555556,
              "#d8576b"
             ],
             [
              0.6666666666666666,
              "#ed7953"
             ],
             [
              0.7777777777777778,
              "#fb9f3a"
             ],
             [
              0.8888888888888888,
              "#fdca26"
             ],
             [
              1,
              "#f0f921"
             ]
            ],
            "type": "contour"
           }
          ],
          "contourcarpet": [
           {
            "colorbar": {
             "outlinewidth": 0,
             "ticks": ""
            },
            "type": "contourcarpet"
           }
          ],
          "heatmap": [
           {
            "colorbar": {
             "outlinewidth": 0,
             "ticks": ""
            },
            "colorscale": [
             [
              0,
              "#0d0887"
             ],
             [
              0.1111111111111111,
              "#46039f"
             ],
             [
              0.2222222222222222,
              "#7201a8"
             ],
             [
              0.3333333333333333,
              "#9c179e"
             ],
             [
              0.4444444444444444,
              "#bd3786"
             ],
             [
              0.5555555555555556,
              "#d8576b"
             ],
             [
              0.6666666666666666,
              "#ed7953"
             ],
             [
              0.7777777777777778,
              "#fb9f3a"
             ],
             [
              0.8888888888888888,
              "#fdca26"
             ],
             [
              1,
              "#f0f921"
             ]
            ],
            "type": "heatmap"
           }
          ],
          "heatmapgl": [
           {
            "colorbar": {
             "outlinewidth": 0,
             "ticks": ""
            },
            "colorscale": [
             [
              0,
              "#0d0887"
             ],
             [
              0.1111111111111111,
              "#46039f"
             ],
             [
              0.2222222222222222,
              "#7201a8"
             ],
             [
              0.3333333333333333,
              "#9c179e"
             ],
             [
              0.4444444444444444,
              "#bd3786"
             ],
             [
              0.5555555555555556,
              "#d8576b"
             ],
             [
              0.6666666666666666,
              "#ed7953"
             ],
             [
              0.7777777777777778,
              "#fb9f3a"
             ],
             [
              0.8888888888888888,
              "#fdca26"
             ],
             [
              1,
              "#f0f921"
             ]
            ],
            "type": "heatmapgl"
           }
          ],
          "histogram": [
           {
            "marker": {
             "colorbar": {
              "outlinewidth": 0,
              "ticks": ""
             }
            },
            "type": "histogram"
           }
          ],
          "histogram2d": [
           {
            "colorbar": {
             "outlinewidth": 0,
             "ticks": ""
            },
            "colorscale": [
             [
              0,
              "#0d0887"
             ],
             [
              0.1111111111111111,
              "#46039f"
             ],
             [
              0.2222222222222222,
              "#7201a8"
             ],
             [
              0.3333333333333333,
              "#9c179e"
             ],
             [
              0.4444444444444444,
              "#bd3786"
             ],
             [
              0.5555555555555556,
              "#d8576b"
             ],
             [
              0.6666666666666666,
              "#ed7953"
             ],
             [
              0.7777777777777778,
              "#fb9f3a"
             ],
             [
              0.8888888888888888,
              "#fdca26"
             ],
             [
              1,
              "#f0f921"
             ]
            ],
            "type": "histogram2d"
           }
          ],
          "histogram2dcontour": [
           {
            "colorbar": {
             "outlinewidth": 0,
             "ticks": ""
            },
            "colorscale": [
             [
              0,
              "#0d0887"
             ],
             [
              0.1111111111111111,
              "#46039f"
             ],
             [
              0.2222222222222222,
              "#7201a8"
             ],
             [
              0.3333333333333333,
              "#9c179e"
             ],
             [
              0.4444444444444444,
              "#bd3786"
             ],
             [
              0.5555555555555556,
              "#d8576b"
             ],
             [
              0.6666666666666666,
              "#ed7953"
             ],
             [
              0.7777777777777778,
              "#fb9f3a"
             ],
             [
              0.8888888888888888,
              "#fdca26"
             ],
             [
              1,
              "#f0f921"
             ]
            ],
            "type": "histogram2dcontour"
           }
          ],
          "mesh3d": [
           {
            "colorbar": {
             "outlinewidth": 0,
             "ticks": ""
            },
            "type": "mesh3d"
           }
          ],
          "parcoords": [
           {
            "line": {
             "colorbar": {
              "outlinewidth": 0,
              "ticks": ""
             }
            },
            "type": "parcoords"
           }
          ],
          "pie": [
           {
            "automargin": true,
            "type": "pie"
           }
          ],
          "scatter": [
           {
            "marker": {
             "colorbar": {
              "outlinewidth": 0,
              "ticks": ""
             }
            },
            "type": "scatter"
           }
          ],
          "scatter3d": [
           {
            "line": {
             "colorbar": {
              "outlinewidth": 0,
              "ticks": ""
             }
            },
            "marker": {
             "colorbar": {
              "outlinewidth": 0,
              "ticks": ""
             }
            },
            "type": "scatter3d"
           }
          ],
          "scattercarpet": [
           {
            "marker": {
             "colorbar": {
              "outlinewidth": 0,
              "ticks": ""
             }
            },
            "type": "scattercarpet"
           }
          ],
          "scattergeo": [
           {
            "marker": {
             "colorbar": {
              "outlinewidth": 0,
              "ticks": ""
             }
            },
            "type": "scattergeo"
           }
          ],
          "scattergl": [
           {
            "marker": {
             "colorbar": {
              "outlinewidth": 0,
              "ticks": ""
             }
            },
            "type": "scattergl"
           }
          ],
          "scattermapbox": [
           {
            "marker": {
             "colorbar": {
              "outlinewidth": 0,
              "ticks": ""
             }
            },
            "type": "scattermapbox"
           }
          ],
          "scatterpolar": [
           {
            "marker": {
             "colorbar": {
              "outlinewidth": 0,
              "ticks": ""
             }
            },
            "type": "scatterpolar"
           }
          ],
          "scatterpolargl": [
           {
            "marker": {
             "colorbar": {
              "outlinewidth": 0,
              "ticks": ""
             }
            },
            "type": "scatterpolargl"
           }
          ],
          "scatterternary": [
           {
            "marker": {
             "colorbar": {
              "outlinewidth": 0,
              "ticks": ""
             }
            },
            "type": "scatterternary"
           }
          ],
          "surface": [
           {
            "colorbar": {
             "outlinewidth": 0,
             "ticks": ""
            },
            "colorscale": [
             [
              0,
              "#0d0887"
             ],
             [
              0.1111111111111111,
              "#46039f"
             ],
             [
              0.2222222222222222,
              "#7201a8"
             ],
             [
              0.3333333333333333,
              "#9c179e"
             ],
             [
              0.4444444444444444,
              "#bd3786"
             ],
             [
              0.5555555555555556,
              "#d8576b"
             ],
             [
              0.6666666666666666,
              "#ed7953"
             ],
             [
              0.7777777777777778,
              "#fb9f3a"
             ],
             [
              0.8888888888888888,
              "#fdca26"
             ],
             [
              1,
              "#f0f921"
             ]
            ],
            "type": "surface"
           }
          ],
          "table": [
           {
            "cells": {
             "fill": {
              "color": "#EBF0F8"
             },
             "line": {
              "color": "white"
             }
            },
            "header": {
             "fill": {
              "color": "#C8D4E3"
             },
             "line": {
              "color": "white"
             }
            },
            "type": "table"
           }
          ]
         },
         "layout": {
          "annotationdefaults": {
           "arrowcolor": "#2a3f5f",
           "arrowhead": 0,
           "arrowwidth": 1
          },
          "coloraxis": {
           "colorbar": {
            "outlinewidth": 0,
            "ticks": ""
           }
          },
          "colorscale": {
           "diverging": [
            [
             0,
             "#8e0152"
            ],
            [
             0.1,
             "#c51b7d"
            ],
            [
             0.2,
             "#de77ae"
            ],
            [
             0.3,
             "#f1b6da"
            ],
            [
             0.4,
             "#fde0ef"
            ],
            [
             0.5,
             "#f7f7f7"
            ],
            [
             0.6,
             "#e6f5d0"
            ],
            [
             0.7,
             "#b8e186"
            ],
            [
             0.8,
             "#7fbc41"
            ],
            [
             0.9,
             "#4d9221"
            ],
            [
             1,
             "#276419"
            ]
           ],
           "sequential": [
            [
             0,
             "#0d0887"
            ],
            [
             0.1111111111111111,
             "#46039f"
            ],
            [
             0.2222222222222222,
             "#7201a8"
            ],
            [
             0.3333333333333333,
             "#9c179e"
            ],
            [
             0.4444444444444444,
             "#bd3786"
            ],
            [
             0.5555555555555556,
             "#d8576b"
            ],
            [
             0.6666666666666666,
             "#ed7953"
            ],
            [
             0.7777777777777778,
             "#fb9f3a"
            ],
            [
             0.8888888888888888,
             "#fdca26"
            ],
            [
             1,
             "#f0f921"
            ]
           ],
           "sequentialminus": [
            [
             0,
             "#0d0887"
            ],
            [
             0.1111111111111111,
             "#46039f"
            ],
            [
             0.2222222222222222,
             "#7201a8"
            ],
            [
             0.3333333333333333,
             "#9c179e"
            ],
            [
             0.4444444444444444,
             "#bd3786"
            ],
            [
             0.5555555555555556,
             "#d8576b"
            ],
            [
             0.6666666666666666,
             "#ed7953"
            ],
            [
             0.7777777777777778,
             "#fb9f3a"
            ],
            [
             0.8888888888888888,
             "#fdca26"
            ],
            [
             1,
             "#f0f921"
            ]
           ]
          },
          "colorway": [
           "#636efa",
           "#EF553B",
           "#00cc96",
           "#ab63fa",
           "#FFA15A",
           "#19d3f3",
           "#FF6692",
           "#B6E880",
           "#FF97FF",
           "#FECB52"
          ],
          "font": {
           "color": "#2a3f5f"
          },
          "geo": {
           "bgcolor": "white",
           "lakecolor": "white",
           "landcolor": "#E5ECF6",
           "showlakes": true,
           "showland": true,
           "subunitcolor": "white"
          },
          "hoverlabel": {
           "align": "left"
          },
          "hovermode": "closest",
          "mapbox": {
           "style": "light"
          },
          "paper_bgcolor": "white",
          "plot_bgcolor": "#E5ECF6",
          "polar": {
           "angularaxis": {
            "gridcolor": "white",
            "linecolor": "white",
            "ticks": ""
           },
           "bgcolor": "#E5ECF6",
           "radialaxis": {
            "gridcolor": "white",
            "linecolor": "white",
            "ticks": ""
           }
          },
          "scene": {
           "xaxis": {
            "backgroundcolor": "#E5ECF6",
            "gridcolor": "white",
            "gridwidth": 2,
            "linecolor": "white",
            "showbackground": true,
            "ticks": "",
            "zerolinecolor": "white"
           },
           "yaxis": {
            "backgroundcolor": "#E5ECF6",
            "gridcolor": "white",
            "gridwidth": 2,
            "linecolor": "white",
            "showbackground": true,
            "ticks": "",
            "zerolinecolor": "white"
           },
           "zaxis": {
            "backgroundcolor": "#E5ECF6",
            "gridcolor": "white",
            "gridwidth": 2,
            "linecolor": "white",
            "showbackground": true,
            "ticks": "",
            "zerolinecolor": "white"
           }
          },
          "shapedefaults": {
           "line": {
            "color": "#2a3f5f"
           }
          },
          "ternary": {
           "aaxis": {
            "gridcolor": "white",
            "linecolor": "white",
            "ticks": ""
           },
           "baxis": {
            "gridcolor": "white",
            "linecolor": "white",
            "ticks": ""
           },
           "bgcolor": "#E5ECF6",
           "caxis": {
            "gridcolor": "white",
            "linecolor": "white",
            "ticks": ""
           }
          },
          "title": {
           "x": 0.05
          },
          "xaxis": {
           "automargin": true,
           "gridcolor": "white",
           "linecolor": "white",
           "ticks": "",
           "title": {
            "standoff": 15
           },
           "zerolinecolor": "white",
           "zerolinewidth": 2
          },
          "yaxis": {
           "automargin": true,
           "gridcolor": "white",
           "linecolor": "white",
           "ticks": "",
           "title": {
            "standoff": 15
           },
           "zerolinecolor": "white",
           "zerolinewidth": 2
          }
         }
        },
        "title": {
         "text": "Error Rate K Value"
        },
        "width": 1000,
        "xaxis": {
         "title": {
          "text": "K Value"
         }
        },
        "yaxis": {
         "title": {
          "text": "Mean Error"
         }
        }
       }
      },
      "text/html": [
       "<div>\n",
       "        \n",
       "        \n",
       "            <div id=\"edaf9386-286e-478a-a0e5-159181b37410\" class=\"plotly-graph-div\" style=\"height:900px; width:1000px;\"></div>\n",
       "            <script type=\"text/javascript\">\n",
       "                require([\"plotly\"], function(Plotly) {\n",
       "                    window.PLOTLYENV=window.PLOTLYENV || {};\n",
       "                    \n",
       "                if (document.getElementById(\"edaf9386-286e-478a-a0e5-159181b37410\")) {\n",
       "                    Plotly.newPlot(\n",
       "                        'edaf9386-286e-478a-a0e5-159181b37410',\n",
       "                        [{\"type\": \"scatter\", \"x\": [1, 2, 3, 4, 5, 6, 7, 8, 9], \"y\": [0.012354312354312355, 0.019696969696969695, 0.022494172494172494, 0.029603729603729603, 0.03193473193473193, 0.03787878787878788, 0.04219114219114219, 0.0479020979020979, 0.051515151515151514]}],\n",
       "                        {\"height\": 900, \"template\": {\"data\": {\"bar\": [{\"error_x\": {\"color\": \"#2a3f5f\"}, \"error_y\": {\"color\": \"#2a3f5f\"}, \"marker\": {\"line\": {\"color\": \"#E5ECF6\", \"width\": 0.5}}, \"type\": \"bar\"}], \"barpolar\": [{\"marker\": {\"line\": {\"color\": \"#E5ECF6\", \"width\": 0.5}}, \"type\": \"barpolar\"}], \"carpet\": [{\"aaxis\": {\"endlinecolor\": \"#2a3f5f\", \"gridcolor\": \"white\", \"linecolor\": \"white\", \"minorgridcolor\": \"white\", \"startlinecolor\": \"#2a3f5f\"}, \"baxis\": {\"endlinecolor\": \"#2a3f5f\", \"gridcolor\": \"white\", \"linecolor\": \"white\", \"minorgridcolor\": \"white\", \"startlinecolor\": \"#2a3f5f\"}, \"type\": \"carpet\"}], \"choropleth\": [{\"colorbar\": {\"outlinewidth\": 0, \"ticks\": \"\"}, \"type\": \"choropleth\"}], \"contour\": [{\"colorbar\": {\"outlinewidth\": 0, \"ticks\": \"\"}, \"colorscale\": [[0.0, \"#0d0887\"], [0.1111111111111111, \"#46039f\"], [0.2222222222222222, \"#7201a8\"], [0.3333333333333333, \"#9c179e\"], [0.4444444444444444, \"#bd3786\"], [0.5555555555555556, \"#d8576b\"], [0.6666666666666666, \"#ed7953\"], [0.7777777777777778, \"#fb9f3a\"], [0.8888888888888888, \"#fdca26\"], [1.0, \"#f0f921\"]], \"type\": \"contour\"}], \"contourcarpet\": [{\"colorbar\": {\"outlinewidth\": 0, \"ticks\": \"\"}, \"type\": \"contourcarpet\"}], \"heatmap\": [{\"colorbar\": {\"outlinewidth\": 0, \"ticks\": \"\"}, \"colorscale\": [[0.0, \"#0d0887\"], [0.1111111111111111, \"#46039f\"], [0.2222222222222222, \"#7201a8\"], [0.3333333333333333, \"#9c179e\"], [0.4444444444444444, \"#bd3786\"], [0.5555555555555556, \"#d8576b\"], [0.6666666666666666, \"#ed7953\"], [0.7777777777777778, \"#fb9f3a\"], [0.8888888888888888, \"#fdca26\"], [1.0, \"#f0f921\"]], \"type\": \"heatmap\"}], \"heatmapgl\": [{\"colorbar\": {\"outlinewidth\": 0, \"ticks\": \"\"}, \"colorscale\": [[0.0, \"#0d0887\"], [0.1111111111111111, \"#46039f\"], [0.2222222222222222, \"#7201a8\"], [0.3333333333333333, \"#9c179e\"], [0.4444444444444444, \"#bd3786\"], [0.5555555555555556, \"#d8576b\"], [0.6666666666666666, \"#ed7953\"], [0.7777777777777778, \"#fb9f3a\"], [0.8888888888888888, \"#fdca26\"], [1.0, \"#f0f921\"]], \"type\": \"heatmapgl\"}], \"histogram\": [{\"marker\": {\"colorbar\": {\"outlinewidth\": 0, \"ticks\": \"\"}}, \"type\": \"histogram\"}], \"histogram2d\": [{\"colorbar\": {\"outlinewidth\": 0, \"ticks\": \"\"}, \"colorscale\": [[0.0, \"#0d0887\"], [0.1111111111111111, \"#46039f\"], [0.2222222222222222, \"#7201a8\"], [0.3333333333333333, \"#9c179e\"], [0.4444444444444444, \"#bd3786\"], [0.5555555555555556, \"#d8576b\"], [0.6666666666666666, \"#ed7953\"], [0.7777777777777778, \"#fb9f3a\"], [0.8888888888888888, \"#fdca26\"], [1.0, \"#f0f921\"]], \"type\": \"histogram2d\"}], \"histogram2dcontour\": [{\"colorbar\": {\"outlinewidth\": 0, \"ticks\": \"\"}, \"colorscale\": [[0.0, \"#0d0887\"], [0.1111111111111111, \"#46039f\"], [0.2222222222222222, \"#7201a8\"], [0.3333333333333333, \"#9c179e\"], [0.4444444444444444, \"#bd3786\"], [0.5555555555555556, \"#d8576b\"], [0.6666666666666666, \"#ed7953\"], [0.7777777777777778, \"#fb9f3a\"], [0.8888888888888888, \"#fdca26\"], [1.0, \"#f0f921\"]], \"type\": \"histogram2dcontour\"}], \"mesh3d\": [{\"colorbar\": {\"outlinewidth\": 0, \"ticks\": \"\"}, \"type\": \"mesh3d\"}], \"parcoords\": [{\"line\": {\"colorbar\": {\"outlinewidth\": 0, \"ticks\": \"\"}}, \"type\": \"parcoords\"}], \"pie\": [{\"automargin\": true, \"type\": \"pie\"}], \"scatter\": [{\"marker\": {\"colorbar\": {\"outlinewidth\": 0, \"ticks\": \"\"}}, \"type\": \"scatter\"}], \"scatter3d\": [{\"line\": {\"colorbar\": {\"outlinewidth\": 0, \"ticks\": \"\"}}, \"marker\": {\"colorbar\": {\"outlinewidth\": 0, \"ticks\": \"\"}}, \"type\": \"scatter3d\"}], \"scattercarpet\": [{\"marker\": {\"colorbar\": {\"outlinewidth\": 0, \"ticks\": \"\"}}, \"type\": \"scattercarpet\"}], \"scattergeo\": [{\"marker\": {\"colorbar\": {\"outlinewidth\": 0, \"ticks\": \"\"}}, \"type\": \"scattergeo\"}], \"scattergl\": [{\"marker\": {\"colorbar\": {\"outlinewidth\": 0, \"ticks\": \"\"}}, \"type\": \"scattergl\"}], \"scattermapbox\": [{\"marker\": {\"colorbar\": {\"outlinewidth\": 0, \"ticks\": \"\"}}, \"type\": \"scattermapbox\"}], \"scatterpolar\": [{\"marker\": {\"colorbar\": {\"outlinewidth\": 0, \"ticks\": \"\"}}, \"type\": \"scatterpolar\"}], \"scatterpolargl\": [{\"marker\": {\"colorbar\": {\"outlinewidth\": 0, \"ticks\": \"\"}}, \"type\": \"scatterpolargl\"}], \"scatterternary\": [{\"marker\": {\"colorbar\": {\"outlinewidth\": 0, \"ticks\": \"\"}}, \"type\": \"scatterternary\"}], \"surface\": [{\"colorbar\": {\"outlinewidth\": 0, \"ticks\": \"\"}, \"colorscale\": [[0.0, \"#0d0887\"], [0.1111111111111111, \"#46039f\"], [0.2222222222222222, \"#7201a8\"], [0.3333333333333333, \"#9c179e\"], [0.4444444444444444, \"#bd3786\"], [0.5555555555555556, \"#d8576b\"], [0.6666666666666666, \"#ed7953\"], [0.7777777777777778, \"#fb9f3a\"], [0.8888888888888888, \"#fdca26\"], [1.0, \"#f0f921\"]], \"type\": \"surface\"}], \"table\": [{\"cells\": {\"fill\": {\"color\": \"#EBF0F8\"}, \"line\": {\"color\": \"white\"}}, \"header\": {\"fill\": {\"color\": \"#C8D4E3\"}, \"line\": {\"color\": \"white\"}}, \"type\": \"table\"}]}, \"layout\": {\"annotationdefaults\": {\"arrowcolor\": \"#2a3f5f\", \"arrowhead\": 0, \"arrowwidth\": 1}, \"coloraxis\": {\"colorbar\": {\"outlinewidth\": 0, \"ticks\": \"\"}}, \"colorscale\": {\"diverging\": [[0, \"#8e0152\"], [0.1, \"#c51b7d\"], [0.2, \"#de77ae\"], [0.3, \"#f1b6da\"], [0.4, \"#fde0ef\"], [0.5, \"#f7f7f7\"], [0.6, \"#e6f5d0\"], [0.7, \"#b8e186\"], [0.8, \"#7fbc41\"], [0.9, \"#4d9221\"], [1, \"#276419\"]], \"sequential\": [[0.0, \"#0d0887\"], [0.1111111111111111, \"#46039f\"], [0.2222222222222222, \"#7201a8\"], [0.3333333333333333, \"#9c179e\"], [0.4444444444444444, \"#bd3786\"], [0.5555555555555556, \"#d8576b\"], [0.6666666666666666, \"#ed7953\"], [0.7777777777777778, \"#fb9f3a\"], [0.8888888888888888, \"#fdca26\"], [1.0, \"#f0f921\"]], \"sequentialminus\": [[0.0, \"#0d0887\"], [0.1111111111111111, \"#46039f\"], [0.2222222222222222, \"#7201a8\"], [0.3333333333333333, \"#9c179e\"], [0.4444444444444444, \"#bd3786\"], [0.5555555555555556, \"#d8576b\"], [0.6666666666666666, \"#ed7953\"], [0.7777777777777778, \"#fb9f3a\"], [0.8888888888888888, \"#fdca26\"], [1.0, \"#f0f921\"]]}, \"colorway\": [\"#636efa\", \"#EF553B\", \"#00cc96\", \"#ab63fa\", \"#FFA15A\", \"#19d3f3\", \"#FF6692\", \"#B6E880\", \"#FF97FF\", \"#FECB52\"], \"font\": {\"color\": \"#2a3f5f\"}, \"geo\": {\"bgcolor\": \"white\", \"lakecolor\": \"white\", \"landcolor\": \"#E5ECF6\", \"showlakes\": true, \"showland\": true, \"subunitcolor\": \"white\"}, \"hoverlabel\": {\"align\": \"left\"}, \"hovermode\": \"closest\", \"mapbox\": {\"style\": \"light\"}, \"paper_bgcolor\": \"white\", \"plot_bgcolor\": \"#E5ECF6\", \"polar\": {\"angularaxis\": {\"gridcolor\": \"white\", \"linecolor\": \"white\", \"ticks\": \"\"}, \"bgcolor\": \"#E5ECF6\", \"radialaxis\": {\"gridcolor\": \"white\", \"linecolor\": \"white\", \"ticks\": \"\"}}, \"scene\": {\"xaxis\": {\"backgroundcolor\": \"#E5ECF6\", \"gridcolor\": \"white\", \"gridwidth\": 2, \"linecolor\": \"white\", \"showbackground\": true, \"ticks\": \"\", \"zerolinecolor\": \"white\"}, \"yaxis\": {\"backgroundcolor\": \"#E5ECF6\", \"gridcolor\": \"white\", \"gridwidth\": 2, \"linecolor\": \"white\", \"showbackground\": true, \"ticks\": \"\", \"zerolinecolor\": \"white\"}, \"zaxis\": {\"backgroundcolor\": \"#E5ECF6\", \"gridcolor\": \"white\", \"gridwidth\": 2, \"linecolor\": \"white\", \"showbackground\": true, \"ticks\": \"\", \"zerolinecolor\": \"white\"}}, \"shapedefaults\": {\"line\": {\"color\": \"#2a3f5f\"}}, \"ternary\": {\"aaxis\": {\"gridcolor\": \"white\", \"linecolor\": \"white\", \"ticks\": \"\"}, \"baxis\": {\"gridcolor\": \"white\", \"linecolor\": \"white\", \"ticks\": \"\"}, \"bgcolor\": \"#E5ECF6\", \"caxis\": {\"gridcolor\": \"white\", \"linecolor\": \"white\", \"ticks\": \"\"}}, \"title\": {\"x\": 0.05}, \"xaxis\": {\"automargin\": true, \"gridcolor\": \"white\", \"linecolor\": \"white\", \"ticks\": \"\", \"title\": {\"standoff\": 15}, \"zerolinecolor\": \"white\", \"zerolinewidth\": 2}, \"yaxis\": {\"automargin\": true, \"gridcolor\": \"white\", \"linecolor\": \"white\", \"ticks\": \"\", \"title\": {\"standoff\": 15}, \"zerolinecolor\": \"white\", \"zerolinewidth\": 2}}}, \"title\": {\"text\": \"Error Rate K Value\"}, \"width\": 1000, \"xaxis\": {\"title\": {\"text\": \"K Value\"}}, \"yaxis\": {\"title\": {\"text\": \"Mean Error\"}}},\n",
       "                        {\"responsive\": true}\n",
       "                    ).then(function(){\n",
       "                            \n",
       "var gd = document.getElementById('edaf9386-286e-478a-a0e5-159181b37410');\n",
       "var x = new MutationObserver(function (mutations, observer) {{\n",
       "        var display = window.getComputedStyle(gd).display;\n",
       "        if (!display || display === 'none') {{\n",
       "            console.log([gd, 'removed!']);\n",
       "            Plotly.purge(gd);\n",
       "            observer.disconnect();\n",
       "        }}\n",
       "}});\n",
       "\n",
       "// Listen for the removal of the full notebook cells\n",
       "var notebookContainer = gd.closest('#notebook-container');\n",
       "if (notebookContainer) {{\n",
       "    x.observe(notebookContainer, {childList: true});\n",
       "}}\n",
       "\n",
       "// Listen for the clearing of the current output cell\n",
       "var outputEl = gd.closest('.output');\n",
       "if (outputEl) {{\n",
       "    x.observe(outputEl, {childList: true});\n",
       "}}\n",
       "\n",
       "                        })\n",
       "                };\n",
       "                });\n",
       "            </script>\n",
       "        </div>"
      ]
     },
     "metadata": {},
     "output_type": "display_data"
    }
   ],
   "source": [
    "import plotly.graph_objects as go\n",
    "fig = go.Figure(data=go.Scatter(x=ls, y=error))\n",
    "fig.update_layout(title='Error Rate K Value',\n",
    "                   xaxis_title='K Value',\n",
    "                   yaxis_title='Mean Error',height=900,width=1000)\n",
    "fig.show()"
   ]
  },
  {
   "cell_type": "markdown",
   "metadata": {},
   "source": [
    "# 6. Intializing Mediapipe Hands for alphabet recognition."
   ]
  },
  {
   "cell_type": "code",
   "execution_count": 33,
   "metadata": {},
   "outputs": [],
   "source": [
    "# Initializing mediapipe hand\n",
    "\n",
    "mp_drawing = mp.solutions.drawing_utils\n",
    "mp_hands = mp.solutions.hands"
   ]
  },
  {
   "cell_type": "code",
   "execution_count": 34,
   "metadata": {},
   "outputs": [],
   "source": [
    "hands = mp_hands.Hands(\n",
    "    max_num_hands = 1,\n",
    "    min_detection_confidence=0.5,\n",
    "    min_tracking_confidence=0.5)"
   ]
  },
  {
   "cell_type": "code",
   "execution_count": 40,
   "metadata": {},
   "outputs": [],
   "source": [
    "# Initializing mediapipe hand capture webcam\n",
    "\n",
    "cap = cv2.VideoCapture(0)\n",
    "\n",
    "\n",
    "while cap.isOpened():\n",
    "    success, image = cap.read()\n",
    "\n",
    "    if not success:\n",
    "        print(\"Ignoring empty camera frame.\")\n",
    "        continue\n",
    "\n",
    "    # Flipping the image horizontally for a later selfie-view display, and converting\n",
    "    # the BGR image to RGB.\n",
    "    image = cv2.cvtColor(cv2.flip(image, 1), cv2.COLOR_BGR2RGB)\n",
    "\n",
    "    # To improve performance, marking the image as not writeable to\n",
    "    # pass by reference.\n",
    "    image.flags.writeable = False\n",
    "    results = hands.process(image)\n",
    "\n",
    "    # Drawing the hand annotations on the image.\n",
    "    \n",
    "    # resetiing writeable is True\n",
    "    image.flags.writeable = True\n",
    "    \n",
    "    #converting the BGR image to RGB.\n",
    "    image = cv2.cvtColor(image, cv2.COLOR_RGB2BGR)\n",
    "    \n",
    "    if results.multi_hand_landmarks:\n",
    "        for hand_landmarks in results.multi_hand_landmarks:\n",
    "            coords = hand_landmarks.landmark\n",
    "            mp_drawing.draw_landmarks(image, hand_landmarks, mp_hands.HAND_CONNECTIONS)\n",
    "            coords = list(np.array([[landmark.x, landmark.y] for landmark in coords]).flatten())\n",
    "            coords = scaler.transform([coords])\n",
    "\n",
    "            predicted = classifier.predict(coords)\n",
    "\n",
    "        # Defining the Status Box\n",
    "        cv2.rectangle(image, (0,0), (160, 60), (245, 90, 16), -1)\n",
    "\n",
    "        # Displaying Class\n",
    "        cv2.putText(image, 'Predicted Letter'\n",
    "                    , (20,15), cv2.FONT_HERSHEY_SIMPLEX, 0.5, (0, 0, 0), 1, cv2.LINE_AA)\n",
    "        cv2.putText(image, str(predicted[0])\n",
    "                    , (20,45), cv2.FONT_HERSHEY_SIMPLEX, 1, (255, 255, 255), 2, cv2.LINE_AA)\n",
    "\n",
    "    cv2.imshow('Sign Translator', image)\n",
    "\n",
    "    if cv2.waitKey(5) & 0xFF == 27:\n",
    "        break\n",
    "        \n",
    "cap.release()\n",
    "cv2.destroyAllWindows()\n"
   ]
  },
  {
   "cell_type": "code",
   "execution_count": null,
   "metadata": {},
   "outputs": [],
   "source": []
  }
 ],
 "metadata": {
  "kernelspec": {
   "display_name": "Python 3 (ipykernel)",
   "language": "python",
   "name": "python3"
  },
  "language_info": {
   "codemirror_mode": {
    "name": "ipython",
    "version": 3
   },
   "file_extension": ".py",
   "mimetype": "text/x-python",
   "name": "python",
   "nbconvert_exporter": "python",
   "pygments_lexer": "ipython3",
   "version": "3.9.7"
  }
 },
 "nbformat": 4,
 "nbformat_minor": 4
}
